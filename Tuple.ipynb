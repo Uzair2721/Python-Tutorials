{
 "cells": [
  {
   "cell_type": "code",
   "execution_count": 1,
   "id": "5d5b577c",
   "metadata": {},
   "outputs": [],
   "source": [
    "# tuple is immutable"
   ]
  },
  {
   "cell_type": "code",
   "execution_count": 2,
   "id": "4c2fae54",
   "metadata": {},
   "outputs": [
    {
     "name": "stdout",
     "output_type": "stream",
     "text": [
      "5\n"
     ]
    }
   ],
   "source": [
    "tup = (1,2,3,4,5,6)\n",
    "print(tup[4])"
   ]
  },
  {
   "cell_type": "code",
   "execution_count": 3,
   "id": "ec8a3429",
   "metadata": {},
   "outputs": [
    {
     "name": "stdout",
     "output_type": "stream",
     "text": [
      "(1, 2, 3, 4, 5, 6, 7, 8, 9)\n"
     ]
    }
   ],
   "source": [
    "tup2 = (7,8,9)\n",
    "print(tup + tup2)"
   ]
  },
  {
   "cell_type": "code",
   "execution_count": 4,
   "id": "365fdfbe",
   "metadata": {},
   "outputs": [
    {
     "name": "stdout",
     "output_type": "stream",
     "text": [
      "6\n"
     ]
    }
   ],
   "source": [
    "print(len(tup))"
   ]
  },
  {
   "cell_type": "code",
   "execution_count": 5,
   "id": "952b6222",
   "metadata": {},
   "outputs": [
    {
     "name": "stdout",
     "output_type": "stream",
     "text": [
      "(1, 'hello', 5.0, [1, 8, 3, 4])\n"
     ]
    }
   ],
   "source": [
    "tup1 = (1, 'hello', 5.0, [1,2,3,4])\n",
    "tup1[3][1] = 8\n",
    "print(tup1)"
   ]
  },
  {
   "cell_type": "code",
   "execution_count": 6,
   "id": "e2bc5674",
   "metadata": {},
   "outputs": [
    {
     "name": "stdout",
     "output_type": "stream",
     "text": [
      "[1, 2, 2, 3, 4, 6, 7]\n"
     ]
    }
   ],
   "source": [
    "tup = (1, 4, 2, 3, 7, 2, 6)\n",
    "sort = sorted(tup)\n",
    "print(sort)"
   ]
  },
  {
   "cell_type": "code",
   "execution_count": 8,
   "id": "69ddffca",
   "metadata": {},
   "outputs": [
    {
     "name": "stdout",
     "output_type": "stream",
     "text": [
      "4\n"
     ]
    }
   ],
   "source": [
    "print(tup.index(7))"
   ]
  },
  {
   "cell_type": "code",
   "execution_count": 9,
   "id": "51c3f212",
   "metadata": {},
   "outputs": [
    {
     "data": {
      "text/plain": [
       "1"
      ]
     },
     "execution_count": 9,
     "metadata": {},
     "output_type": "execute_result"
    }
   ],
   "source": [
    "tup.count(4)"
   ]
  },
  {
   "cell_type": "code",
   "execution_count": 10,
   "id": "0d758f31",
   "metadata": {},
   "outputs": [],
   "source": [
    "tup = (1, 4, 2, 3, 7, 2, 6)"
   ]
  },
  {
   "cell_type": "code",
   "execution_count": 13,
   "id": "e6b6948f",
   "metadata": {},
   "outputs": [
    {
     "name": "stdout",
     "output_type": "stream",
     "text": [
      "[1, 4, 2, 3, 7, 2, 6]\n"
     ]
    }
   ],
   "source": [
    "lst1 = list(tup)\n",
    "print(lst1)"
   ]
  },
  {
   "cell_type": "code",
   "execution_count": 14,
   "id": "f399417d",
   "metadata": {},
   "outputs": [
    {
     "name": "stdout",
     "output_type": "stream",
     "text": [
      "(1, 4, 2, 3, 7, 2, 6)\n"
     ]
    }
   ],
   "source": [
    "tup = tuple(lst1)\n",
    "print(tup)"
   ]
  },
  {
   "cell_type": "code",
   "execution_count": null,
   "id": "e7d39da0",
   "metadata": {},
   "outputs": [],
   "source": []
  }
 ],
 "metadata": {
  "kernelspec": {
   "display_name": "Python 3 (ipykernel)",
   "language": "python",
   "name": "python3"
  },
  "language_info": {
   "codemirror_mode": {
    "name": "ipython",
    "version": 3
   },
   "file_extension": ".py",
   "mimetype": "text/x-python",
   "name": "python",
   "nbconvert_exporter": "python",
   "pygments_lexer": "ipython3",
   "version": "3.11.4"
  }
 },
 "nbformat": 4,
 "nbformat_minor": 5
}
