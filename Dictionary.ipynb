{
 "cells": [
  {
   "cell_type": "code",
   "execution_count": 1,
   "id": "fe85c37f",
   "metadata": {},
   "outputs": [],
   "source": [
    "# dictionary is mutable"
   ]
  },
  {
   "cell_type": "code",
   "execution_count": 2,
   "id": "7005e08d",
   "metadata": {},
   "outputs": [],
   "source": [
    "dict1 = {1: 28, \"two\": 'hi', '3': [1,2,3,4], 4.0: (2,4,6)}"
   ]
  },
  {
   "cell_type": "code",
   "execution_count": 3,
   "id": "105dfd64",
   "metadata": {},
   "outputs": [
    {
     "name": "stdout",
     "output_type": "stream",
     "text": [
      "hi\n"
     ]
    }
   ],
   "source": [
    "print(dict1[\"two\"])"
   ]
  },
  {
   "cell_type": "code",
   "execution_count": 4,
   "id": "eca8cda3",
   "metadata": {},
   "outputs": [
    {
     "name": "stdout",
     "output_type": "stream",
     "text": [
      "dict_keys([1, 'two', '3', 4.0])\n"
     ]
    }
   ],
   "source": [
    "print(dict1.keys())"
   ]
  },
  {
   "cell_type": "code",
   "execution_count": 5,
   "id": "113c65d8",
   "metadata": {},
   "outputs": [
    {
     "name": "stdout",
     "output_type": "stream",
     "text": [
      "dict_values([28, 'hi', [1, 2, 3, 4], (2, 4, 6)])\n"
     ]
    }
   ],
   "source": [
    "print(dict1.values())"
   ]
  },
  {
   "cell_type": "code",
   "execution_count": 6,
   "id": "c4872a7e",
   "metadata": {},
   "outputs": [
    {
     "name": "stdout",
     "output_type": "stream",
     "text": [
      "{1: 28, 'two': 'hi', '3': [1, 2, 3, 4], 4.0: (2, 4, 6), 'five': 'hello'}\n"
     ]
    }
   ],
   "source": [
    "dict1['five'] = 'hello'\n",
    "print(dict1)"
   ]
  },
  {
   "cell_type": "code",
   "execution_count": 7,
   "id": "b75cc28c",
   "metadata": {},
   "outputs": [
    {
     "name": "stdout",
     "output_type": "stream",
     "text": [
      "{1: 28, '3': [1, 2, 3, 4], 4.0: (2, 4, 6), 'five': 'hello'}\n"
     ]
    }
   ],
   "source": [
    "del dict1[\"two\"]\n",
    "print(dict1)"
   ]
  },
  {
   "cell_type": "code",
   "execution_count": 8,
   "id": "983d4068",
   "metadata": {},
   "outputs": [
    {
     "name": "stdout",
     "output_type": "stream",
     "text": [
      "{1: 200, '3': [1, 2, 3, 4], 4.0: (2, 4, 6), 'five': 'hello'}\n"
     ]
    }
   ],
   "source": [
    "dict1[1] = 200\n",
    "print(dict1)"
   ]
  },
  {
   "cell_type": "code",
   "execution_count": 9,
   "id": "2942b40e",
   "metadata": {},
   "outputs": [
    {
     "name": "stdout",
     "output_type": "stream",
     "text": [
      "{'3': [1, 2, 3, 4], 4.0: (2, 4, 6), 'five': 'hello', 'One': 200}\n"
     ]
    }
   ],
   "source": [
    "dict1['One'] = dict1[1]\n",
    "del dict1[1]\n",
    "print(dict1)"
   ]
  },
  {
   "cell_type": "code",
   "execution_count": 10,
   "id": "cea10b9f",
   "metadata": {},
   "outputs": [
    {
     "ename": "KeyError",
     "evalue": "1",
     "output_type": "error",
     "traceback": [
      "\u001b[1;31m---------------------------------------------------------------------------\u001b[0m",
      "\u001b[1;31mKeyError\u001b[0m                                  Traceback (most recent call last)",
      "Cell \u001b[1;32mIn[10], line 1\u001b[0m\n\u001b[1;32m----> 1\u001b[0m \u001b[38;5;28mprint\u001b[39m(dict1[\u001b[38;5;241m1\u001b[39m])\n",
      "\u001b[1;31mKeyError\u001b[0m: 1"
     ]
    }
   ],
   "source": [
    "print(dict1[1])"
   ]
  },
  {
   "cell_type": "code",
   "execution_count": 11,
   "id": "d388f8df",
   "metadata": {},
   "outputs": [
    {
     "name": "stdout",
     "output_type": "stream",
     "text": [
      "None\n"
     ]
    }
   ],
   "source": [
    "print(dict1.get(1))"
   ]
  },
  {
   "cell_type": "code",
   "execution_count": 13,
   "id": "bad443e2",
   "metadata": {},
   "outputs": [],
   "source": [
    "dict1 = {1: 28, \"two\": 'hi', '3': [1,2,3,4], 4.0: (2,4,6)}\n",
    "dict2 = {7: 700, 9.01: 'nine'}"
   ]
  },
  {
   "cell_type": "code",
   "execution_count": 16,
   "id": "3c14a256",
   "metadata": {},
   "outputs": [
    {
     "name": "stdout",
     "output_type": "stream",
     "text": [
      "{1: 28, 'two': 'hi', '3': [1, 2, 3, 4], 4.0: (2, 4, 6), 7: 700, 9.01: 'nine'}\n"
     ]
    }
   ],
   "source": [
    "dict1.update(dict2)\n",
    "print(dict1)"
   ]
  },
  {
   "cell_type": "code",
   "execution_count": 17,
   "id": "0a203eba",
   "metadata": {},
   "outputs": [
    {
     "name": "stdout",
     "output_type": "stream",
     "text": [
      "{1: 28, '3': [1, 2, 3, 4], 4.0: (2, 4, 6), 7: 700, 9.01: 'nine'}\n"
     ]
    }
   ],
   "source": [
    "dict1.pop('two')\n",
    "print(dict1)"
   ]
  },
  {
   "cell_type": "code",
   "execution_count": 18,
   "id": "9395c534",
   "metadata": {},
   "outputs": [
    {
     "name": "stdout",
     "output_type": "stream",
     "text": [
      "{1: 28, '3': [1, 2, 3, 4], 4.0: (2, 4, 6), 7: 700}\n"
     ]
    }
   ],
   "source": [
    "dict1.popitem()         # removes the last k,v pair\n",
    "print(dict1)"
   ]
  },
  {
   "cell_type": "code",
   "execution_count": 19,
   "id": "1ba75583",
   "metadata": {},
   "outputs": [
    {
     "name": "stdout",
     "output_type": "stream",
     "text": [
      "{1: 28, '3': [1, 2, '5', 4], 4.0: (2, 4, 6), 7: 700}\n"
     ]
    }
   ],
   "source": [
    "dict1['3'][2] = '5'\n",
    "print(dict1)"
   ]
  },
  {
   "cell_type": "code",
   "execution_count": 20,
   "id": "81ac4fd1",
   "metadata": {},
   "outputs": [
    {
     "name": "stdout",
     "output_type": "stream",
     "text": [
      "{1: 28, 'two': 200, '3': [1, 2, 3, 4], 4.0: (2, 4, 6)}\n"
     ]
    }
   ],
   "source": [
    "dict1 = {1: 28, \"two\": 'hi', '3': [1,2,3,4], 4.0: (2,4,6), \"two\": 200}\n",
    "print(dict1)"
   ]
  },
  {
   "cell_type": "code",
   "execution_count": 21,
   "id": "07beb7be",
   "metadata": {},
   "outputs": [
    {
     "name": "stdout",
     "output_type": "stream",
     "text": [
      "4\n"
     ]
    }
   ],
   "source": [
    "print(len(dict1))"
   ]
  },
  {
   "cell_type": "code",
   "execution_count": null,
   "id": "24e7a2d9",
   "metadata": {},
   "outputs": [],
   "source": []
  }
 ],
 "metadata": {
  "kernelspec": {
   "display_name": "Python 3 (ipykernel)",
   "language": "python",
   "name": "python3"
  },
  "language_info": {
   "codemirror_mode": {
    "name": "ipython",
    "version": 3
   },
   "file_extension": ".py",
   "mimetype": "text/x-python",
   "name": "python",
   "nbconvert_exporter": "python",
   "pygments_lexer": "ipython3",
   "version": "3.11.4"
  }
 },
 "nbformat": 4,
 "nbformat_minor": 5
}
