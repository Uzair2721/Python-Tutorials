{
 "cells": [
  {
   "cell_type": "code",
   "execution_count": 1,
   "id": "9ec542ea",
   "metadata": {},
   "outputs": [
    {
     "name": "stdout",
     "output_type": "stream",
     "text": [
      "number of even numbers in list:  4\n",
      "number of odd numbers in list:  5\n"
     ]
    }
   ],
   "source": [
    "# even and odd numbers\n",
    "\n",
    "numbers = [1,2,3,4,5,6,7,8,9]\n",
    "odd_count = 0\n",
    "even_count = 0\n",
    "for i in numbers:\n",
    "    if i%2 == 0:\n",
    "        even_count += 1\n",
    "    else:\n",
    "        odd_count += 1\n",
    "        \n",
    "print(\"number of even numbers in list: \", even_count)\n",
    "print(\"number of odd numbers in list: \", odd_count)"
   ]
  },
  {
   "cell_type": "code",
   "execution_count": 2,
   "id": "2b213f6c",
   "metadata": {},
   "outputs": [
    {
     "name": "stdout",
     "output_type": "stream",
     "text": [
      "enter a string: hello\n",
      "olleh\n"
     ]
    }
   ],
   "source": [
    "# reverse a string using functions\n",
    "\n",
    "def reverse_string(str1):\n",
    "    rstr1 = ''\n",
    "    index = len(str1)\n",
    "    while index > 0:\n",
    "        rstr1 += str1[index - 1]\n",
    "        index = index - 1\n",
    "    return rstr1\n",
    "word = input(\"enter a string: \")\n",
    "print(reverse_string(word))"
   ]
  },
  {
   "cell_type": "code",
   "execution_count": 14,
   "id": "a5f6b59e",
   "metadata": {},
   "outputs": [
    {
     "name": "stdout",
     "output_type": "stream",
     "text": [
      "enter a number: 7368\n",
      "given number:  7368\n",
      "8637\n"
     ]
    }
   ],
   "source": [
    "# reversing a number\n",
    "\n",
    "number = int(input(\"enter a number: \"))\n",
    "print(\"given number: \", number)\n",
    "reverse_num = 0\n",
    "while number > 0:\n",
    "    digit = number % 10           # 5, 4, 3, 7\n",
    "    reverse_num = (reverse_num * 10) + digit\n",
    "    number = number // 10         # 734, 73, 7, 0 \n",
    "print(reverse_num)"
   ]
  },
  {
   "cell_type": "code",
   "execution_count": 10,
   "id": "31ecde01",
   "metadata": {},
   "outputs": [
    {
     "name": "stdout",
     "output_type": "stream",
     "text": [
      "enter a number: 7557\n",
      "Original Number:  7557\n",
      "Number is a palindrome\n"
     ]
    }
   ],
   "source": [
    "# palindrome number\n",
    "\n",
    "def palindrome(number):\n",
    "    print(\"Original Number: \", number)\n",
    "    original_num = number\n",
    "    reverse_num = 0\n",
    "    while number > 0:\n",
    "        remainder = number % 10             # 7, 5, 5, 7\n",
    "        reverse_num = (reverse_num * 10) + remainder   # 7, 75, 755, 7557\n",
    "        number = number // 10                 # 755, 75, 7, 0\n",
    "        \n",
    "    if original_num == reverse_num:\n",
    "        print(\"Number is a palindrome\")\n",
    "    else:\n",
    "        print(\"Number is not a palindrome\")\n",
    "    \n",
    "palindrome(int(input(\"enter a number: \")))"
   ]
  },
  {
   "cell_type": "code",
   "execution_count": null,
   "id": "eda945d4",
   "metadata": {},
   "outputs": [],
   "source": []
  }
 ],
 "metadata": {
  "kernelspec": {
   "display_name": "Python 3 (ipykernel)",
   "language": "python",
   "name": "python3"
  },
  "language_info": {
   "codemirror_mode": {
    "name": "ipython",
    "version": 3
   },
   "file_extension": ".py",
   "mimetype": "text/x-python",
   "name": "python",
   "nbconvert_exporter": "python",
   "pygments_lexer": "ipython3",
   "version": "3.11.4"
  }
 },
 "nbformat": 4,
 "nbformat_minor": 5
}
