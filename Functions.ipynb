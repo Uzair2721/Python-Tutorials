{
 "cells": [
  {
   "cell_type": "code",
   "execution_count": 1,
   "id": "388c5d96",
   "metadata": {},
   "outputs": [],
   "source": [
    "# types of programming\n",
    "# 1. procedural programming\n",
    "# 2. functional programming\n",
    "# 3. object oriented programing"
   ]
  },
  {
   "cell_type": "code",
   "execution_count": 2,
   "id": "9b0ddeac",
   "metadata": {},
   "outputs": [],
   "source": [
    "# def function_name():\n",
    "    # statements\n",
    "    \n",
    "# function call"
   ]
  },
  {
   "cell_type": "code",
   "execution_count": 3,
   "id": "0b9e67a5",
   "metadata": {},
   "outputs": [
    {
     "name": "stdout",
     "output_type": "stream",
     "text": [
      "cricket\n",
      "footbal\n",
      "cricket\n",
      "footbal\n"
     ]
    }
   ],
   "source": [
    "print(\"cricket\")\n",
    "print(\"footbal\")\n",
    "print(\"cricket\")\n",
    "print(\"footbal\")"
   ]
  },
  {
   "cell_type": "code",
   "execution_count": 4,
   "id": "8d16117f",
   "metadata": {},
   "outputs": [
    {
     "name": "stdout",
     "output_type": "stream",
     "text": [
      "Cricket\n",
      "Football\n",
      "Cricket\n",
      "Football\n"
     ]
    }
   ],
   "source": [
    "def str1():\n",
    "    print(\"Cricket\")\n",
    "    print(\"Football\")\n",
    "    \n",
    "str1()\n",
    "str1()"
   ]
  },
  {
   "cell_type": "code",
   "execution_count": 5,
   "id": "c0df3625",
   "metadata": {},
   "outputs": [
    {
     "name": "stdout",
     "output_type": "stream",
     "text": [
      "hello world\n"
     ]
    }
   ],
   "source": [
    "def str_add():\n",
    "    str_1 = \"hello\"\n",
    "    str_2 = \" world\"\n",
    "    print(str_1 + str_2)\n",
    "    \n",
    "str_add()"
   ]
  },
  {
   "cell_type": "code",
   "execution_count": 6,
   "id": "cec22ef0",
   "metadata": {},
   "outputs": [
    {
     "name": "stdout",
     "output_type": "stream",
     "text": [
      "7\n"
     ]
    }
   ],
   "source": [
    "def add(a, b):\n",
    "    print(a + b)\n",
    "    \n",
    "add(2, 5)"
   ]
  },
  {
   "cell_type": "code",
   "execution_count": 7,
   "id": "a07561bf",
   "metadata": {},
   "outputs": [
    {
     "name": "stdout",
     "output_type": "stream",
     "text": [
      "9\n"
     ]
    }
   ],
   "source": [
    "def add(a=2, b=5):     # user defined argument\n",
    "    print(a + b)\n",
    "    \n",
    "add(a=3, b=6)       # keyword argument           # if values are mentioned while calling the function, default values won't be considered"
   ]
  },
  {
   "cell_type": "code",
   "execution_count": 8,
   "id": "261b9866",
   "metadata": {},
   "outputs": [
    {
     "name": "stdout",
     "output_type": "stream",
     "text": [
      "6\n"
     ]
    }
   ],
   "source": [
    "def add(a, b):\n",
    "    print(a + b)\n",
    "\n",
    "x = 2\n",
    "y = 4\n",
    "add(x, y)"
   ]
  },
  {
   "cell_type": "code",
   "execution_count": 9,
   "id": "7b13e63f",
   "metadata": {},
   "outputs": [
    {
     "name": "stdout",
     "output_type": "stream",
     "text": [
      "30\n"
     ]
    }
   ],
   "source": [
    "def add1(a, b):\n",
    "    c = a + b\n",
    "    return c\n",
    "\n",
    "result = add1(10, 20)\n",
    "print(result)"
   ]
  },
  {
   "cell_type": "code",
   "execution_count": 10,
   "id": "09b4440a",
   "metadata": {},
   "outputs": [
    {
     "name": "stdout",
     "output_type": "stream",
     "text": [
      "49\n"
     ]
    }
   ],
   "source": [
    "# 2 numbers given, when added = 7\n",
    "# square that number\n",
    "# 1 function call \n",
    "\n",
    "def add(x, y):\n",
    "    return x + y\n",
    "\n",
    "def square(z):\n",
    "    return z**2\n",
    "\n",
    "res = square(add(5, 2))\n",
    "print(res)"
   ]
  },
  {
   "cell_type": "code",
   "execution_count": 11,
   "id": "4014c560",
   "metadata": {},
   "outputs": [
    {
     "name": "stdout",
     "output_type": "stream",
     "text": [
      "300 -100 20000 0.5\n",
      "330\n"
     ]
    }
   ],
   "source": [
    "def addition(num1, num2):\n",
    "    add = num1 + num2\n",
    "    sub = num1 - num2\n",
    "    mult = num1 * num2\n",
    "    div = num1 / num2\n",
    "    print(add, sub, mult, div)\n",
    "    return num1 + num2\n",
    "\n",
    "ans = addition(100, 200)\n",
    "print(ans + 30)"
   ]
  },
  {
   "cell_type": "code",
   "execution_count": 12,
   "id": "2731765a",
   "metadata": {},
   "outputs": [
    {
     "name": "stdout",
     "output_type": "stream",
     "text": [
      "Enter a number: 34\n",
      "Enter a number: 2\n",
      "36\n"
     ]
    }
   ],
   "source": [
    "def add():\n",
    "    num1 = int(input(\"Enter a number: \"))\n",
    "    num2 = int(input(\"Enter a number: \"))\n",
    "    return num1 + num2\n",
    "\n",
    "res = add()\n",
    "print(res)"
   ]
  },
  {
   "cell_type": "code",
   "execution_count": 28,
   "id": "522f6f1c",
   "metadata": {},
   "outputs": [
    {
     "name": "stdout",
     "output_type": "stream",
     "text": [
      "Enter a number: 5\n",
      "5 * 1 = 5\n",
      "5 * 2 = 10\n",
      "5 * 3 = 15\n",
      "5 * 4 = 20\n",
      "5 * 5 = 25\n",
      "5 * 6 = 30\n",
      "5 * 7 = 35\n",
      "5 * 8 = 40\n",
      "5 * 9 = 45\n",
      "5 * 10 = 50\n"
     ]
    }
   ],
   "source": [
    "def table(n):\n",
    "    for i in range(1, 11):\n",
    "#         print(n,'*',i,'=',n*i)\n",
    "        print(f\"{n} * {i} = {n*i}\")\n",
    "        \n",
    "n = int(input(\"Enter a number: \"))\n",
    "table(n)"
   ]
  },
  {
   "cell_type": "code",
   "execution_count": 14,
   "id": "fc285847",
   "metadata": {},
   "outputs": [
    {
     "name": "stdout",
     "output_type": "stream",
     "text": [
      "4.235294117647059\n",
      "First number is greater\n"
     ]
    }
   ],
   "source": [
    "def calc_gmean(a, b):\n",
    "    mean = (a*b)/(a+b)\n",
    "    print(mean)\n",
    "    \n",
    "def is_greater(a,b):\n",
    "    if a>b:\n",
    "        print(\"First number is greater\")\n",
    "    else:\n",
    "        print(\"Second Number is greater\")\n",
    "        \n",
    "def is_lesser(a,b):\n",
    "    pass\n",
    "\n",
    "a = 9\n",
    "b = 8\n",
    "calc_gmean(a, b)\n",
    "is_greater(a, b)\n",
    "is_lesser(a, b)"
   ]
  },
  {
   "cell_type": "code",
   "execution_count": 15,
   "id": "9a31331c",
   "metadata": {},
   "outputs": [
    {
     "name": "stdout",
     "output_type": "stream",
     "text": [
      "4.75\n"
     ]
    }
   ],
   "source": [
    "def average(*numbers):\n",
    "    sum = 0\n",
    "    for i in numbers:\n",
    "        sum += i\n",
    "    return sum/len(numbers)\n",
    "\n",
    "res = average(2, 6, 4, 7)\n",
    "print(res)"
   ]
  },
  {
   "cell_type": "code",
   "execution_count": 16,
   "id": "03e1e6d6",
   "metadata": {},
   "outputs": [],
   "source": [
    "# modules\n",
    "import math"
   ]
  },
  {
   "cell_type": "code",
   "execution_count": 17,
   "id": "4815d60b",
   "metadata": {},
   "outputs": [
    {
     "name": "stdout",
     "output_type": "stream",
     "text": [
      "3.141592653589793\n"
     ]
    }
   ],
   "source": [
    "print(math.pi)"
   ]
  },
  {
   "cell_type": "code",
   "execution_count": 18,
   "id": "1b3c20cc",
   "metadata": {},
   "outputs": [
    {
     "name": "stdout",
     "output_type": "stream",
     "text": [
      "3.141592653589793\n"
     ]
    }
   ],
   "source": [
    "from math import pi\n",
    "print(pi)"
   ]
  },
  {
   "cell_type": "code",
   "execution_count": 19,
   "id": "6b9fa08c",
   "metadata": {},
   "outputs": [
    {
     "name": "stdout",
     "output_type": "stream",
     "text": [
      "3.141592653589793\n"
     ]
    }
   ],
   "source": [
    "from math import *\n",
    "print(pi)"
   ]
  },
  {
   "cell_type": "markdown",
   "id": "905272b3",
   "metadata": {},
   "source": [
    "recursion"
   ]
  },
  {
   "cell_type": "code",
   "execution_count": 20,
   "id": "df232664",
   "metadata": {},
   "outputs": [],
   "source": [
    "import sys"
   ]
  },
  {
   "cell_type": "code",
   "execution_count": 21,
   "id": "ee5c1a0d",
   "metadata": {},
   "outputs": [
    {
     "name": "stdout",
     "output_type": "stream",
     "text": [
      "3000\n"
     ]
    }
   ],
   "source": [
    "print(sys.getrecursionlimit())"
   ]
  },
  {
   "cell_type": "code",
   "execution_count": 22,
   "id": "fa28918c",
   "metadata": {},
   "outputs": [],
   "source": [
    "sys.setrecursionlimit(50)"
   ]
  },
  {
   "cell_type": "code",
   "execution_count": 23,
   "id": "e4559307",
   "metadata": {},
   "outputs": [
    {
     "name": "stdout",
     "output_type": "stream",
     "text": [
      "Python 1\n",
      "Python 2\n",
      "Python 3\n",
      "Python 4\n",
      "Python 5\n",
      "Python 6\n",
      "Python 7\n",
      "Python 8\n",
      "Python 9\n",
      "Python 10\n",
      "Python 11\n",
      "Python 12\n",
      "Python 13\n",
      "Python 14\n",
      "Python 15\n",
      "Python 16\n",
      "Python 17\n",
      "Python 18\n",
      "Python 19\n",
      "Python 20\n",
      "Python 21\n",
      "Unexpected exception formatting exception. Falling back to standard exception\n"
     ]
    },
    {
     "name": "stderr",
     "output_type": "stream",
     "text": [
      "Traceback (most recent call last):\n",
      "  File \"C:\\Users\\owner\\anaconda3\\Lib\\site-packages\\IPython\\core\\interactiveshell.py\", line 3505, in run_code\n",
      "    exec(code_obj, self.user_global_ns, self.user_ns)\n",
      "  File \"C:\\Users\\owner\\AppData\\Local\\Temp\\ipykernel_16088\\586028113.py\", line 8, in <module>\n",
      "    python()\n",
      "  File \"C:\\Users\\owner\\AppData\\Local\\Temp\\ipykernel_16088\\586028113.py\", line 6, in python\n",
      "    python()\n",
      "  File \"C:\\Users\\owner\\AppData\\Local\\Temp\\ipykernel_16088\\586028113.py\", line 6, in python\n",
      "    python()\n",
      "  File \"C:\\Users\\owner\\AppData\\Local\\Temp\\ipykernel_16088\\586028113.py\", line 6, in python\n",
      "    python()\n",
      "  [Previous line repeated 18 more times]\n",
      "  File \"C:\\Users\\owner\\AppData\\Local\\Temp\\ipykernel_16088\\586028113.py\", line 5, in python\n",
      "    print(\"Python\", n)\n",
      "  File \"C:\\Users\\owner\\anaconda3\\Lib\\site-packages\\ipykernel\\iostream.py\", line 550, in write\n",
      "    is_child = not self._is_master_process()\n",
      "                   ^^^^^^^^^^^^^^^^^^^^^^^^^\n",
      "  File \"C:\\Users\\owner\\anaconda3\\Lib\\site-packages\\ipykernel\\iostream.py\", line 438, in _is_master_process\n",
      "    return os.getpid() == self._master_pid\n",
      "           ^^^^^^^^^^^\n",
      "RecursionError: maximum recursion depth exceeded while calling a Python object\n",
      "\n",
      "During handling of the above exception, another exception occurred:\n",
      "\n",
      "Traceback (most recent call last):\n",
      "  File \"C:\\Users\\owner\\anaconda3\\Lib\\site-packages\\executing\\executing.py\", line 317, in executing\n",
      "    args = executing_cache[key]\n",
      "           ~~~~~~~~~~~~~~~^^^^^\n",
      "KeyError: (<code object run_code at 0x00000268FDB45E70, file \"C:\\Users\\owner\\anaconda3\\Lib\\site-packages\\IPython\\core\\interactiveshell.py\", line 3469>, 2649956310640, 202)\n",
      "\n",
      "During handling of the above exception, another exception occurred:\n",
      "\n",
      "Traceback (most recent call last):\n",
      "  File \"C:\\Users\\owner\\anaconda3\\Lib\\site-packages\\IPython\\core\\interactiveshell.py\", line 2102, in showtraceback\n",
      "    stb = self.InteractiveTB.structured_traceback(\n",
      "          ^^^^^^^^^^^^^^^^^^^^^^^^^^^^^^^^^^^^^^^^\n",
      "  File \"C:\\Users\\owner\\anaconda3\\Lib\\site-packages\\IPython\\core\\ultratb.py\", line 1310, in structured_traceback\n",
      "    return FormattedTB.structured_traceback(\n",
      "           ^^^^^^^^^^^^^^^^^^^^^^^^^^^^^^^^^\n",
      "  File \"C:\\Users\\owner\\anaconda3\\Lib\\site-packages\\IPython\\core\\ultratb.py\", line 1199, in structured_traceback\n",
      "    return VerboseTB.structured_traceback(\n",
      "           ^^^^^^^^^^^^^^^^^^^^^^^^^^^^^^^\n",
      "  File \"C:\\Users\\owner\\anaconda3\\Lib\\site-packages\\IPython\\core\\ultratb.py\", line 1052, in structured_traceback\n",
      "    formatted_exception = self.format_exception_as_a_whole(etype, evalue, etb, number_of_lines_of_context,\n",
      "                          ^^^^^^^^^^^^^^^^^^^^^^^^^^^^^^^^^^^^^^^^^^^^^^^^^^^^^^^^^^^^^^^^^^^^^^^^^^^^^^^^\n",
      "  File \"C:\\Users\\owner\\anaconda3\\Lib\\site-packages\\IPython\\core\\ultratb.py\", line 953, in format_exception_as_a_whole\n",
      "    self.get_records(etb, number_of_lines_of_context, tb_offset) if etb else []\n",
      "    ^^^^^^^^^^^^^^^^^^^^^^^^^^^^^^^^^^^^^^^^^^^^^^^^^^^^^^^^^^^^\n",
      "  File \"C:\\Users\\owner\\anaconda3\\Lib\\site-packages\\IPython\\core\\ultratb.py\", line 1039, in get_records\n",
      "    res = list(stack_data.FrameInfo.stack_data(etb, options=options))[tb_offset:]\n",
      "          ^^^^^^^^^^^^^^^^^^^^^^^^^^^^^^^^^^^^^^^^^^^^^^^^^^^^^^^^^^^\n",
      "  File \"C:\\Users\\owner\\anaconda3\\Lib\\site-packages\\stack_data\\core.py\", line 565, in stack_data\n",
      "    yield from collapse_repeated(\n",
      "  File \"C:\\Users\\owner\\anaconda3\\Lib\\site-packages\\stack_data\\utils.py\", line 84, in collapse_repeated\n",
      "    yield from map(mapper, original_group)\n",
      "  File \"C:\\Users\\owner\\anaconda3\\Lib\\site-packages\\stack_data\\core.py\", line 555, in mapper\n",
      "    return cls(f, options)\n",
      "           ^^^^^^^^^^^^^^^\n",
      "  File \"C:\\Users\\owner\\anaconda3\\Lib\\site-packages\\stack_data\\core.py\", line 520, in __init__\n",
      "    self.executing = Source.executing(frame_or_tb)\n",
      "                     ^^^^^^^^^^^^^^^^^^^^^^^^^^^^^\n",
      "  File \"C:\\Users\\owner\\anaconda3\\Lib\\site-packages\\executing\\executing.py\", line 369, in executing\n",
      "    args = find(source=cls.for_frame(frame), retry_cache=True)\n",
      "                       ^^^^^^^^^^^^^^^^^^^^\n",
      "  File \"C:\\Users\\owner\\anaconda3\\Lib\\site-packages\\executing\\executing.py\", line 252, in for_frame\n",
      "    return cls.for_filename(frame.f_code.co_filename, frame.f_globals or {}, use_cache)\n",
      "           ^^^^^^^^^^^^^^^^^^^^^^^^^^^^^^^^^^^^^^^^^^^^^^^^^^^^^^^^^^^^^^^^^^^^^^^^^^^^\n",
      "  File \"C:\\Users\\owner\\anaconda3\\Lib\\site-packages\\executing\\executing.py\", line 270, in for_filename\n",
      "    result = source_cache[filename] = cls._for_filename_and_lines(filename, lines)\n",
      "                                      ^^^^^^^^^^^^^^^^^^^^^^^^^^^^^^^^^^^^^^^^^^^^\n",
      "  File \"C:\\Users\\owner\\anaconda3\\Lib\\site-packages\\executing\\executing.py\", line 281, in _for_filename_and_lines\n",
      "    result = source_cache[(filename, lines)] = cls(filename, lines)\n",
      "                                               ^^^^^^^^^^^^^^^^^^^^\n",
      "  File \"C:\\Users\\owner\\anaconda3\\Lib\\site-packages\\stack_data\\core.py\", line 79, in __init__\n",
      "    super(Source, self).__init__(*args, **kwargs)\n",
      "  File \"C:\\Users\\owner\\anaconda3\\Lib\\site-packages\\executing\\executing.py\", line 244, in __init__\n",
      "    visitor.visit(self.tree)\n",
      "  File \"C:\\Users\\owner\\anaconda3\\Lib\\ast.py\", line 418, in visit\n",
      "    return visitor(node)\n",
      "           ^^^^^^^^^^^^^\n",
      "  File \"C:\\Users\\owner\\anaconda3\\Lib\\ast.py\", line 426, in generic_visit\n",
      "    self.visit(item)\n",
      "  File \"C:\\Users\\owner\\anaconda3\\Lib\\ast.py\", line 418, in visit\n",
      "    return visitor(node)\n",
      "           ^^^^^^^^^^^^^\n",
      "  File \"C:\\Users\\owner\\anaconda3\\Lib\\ast.py\", line 428, in generic_visit\n",
      "    self.visit(value)\n",
      "  File \"C:\\Users\\owner\\anaconda3\\Lib\\ast.py\", line 418, in visit\n",
      "    return visitor(node)\n",
      "           ^^^^^^^^^^^^^\n",
      "  File \"C:\\Users\\owner\\anaconda3\\Lib\\ast.py\", line 441, in visit_Constant\n",
      "    visitor = getattr(self, method)\n",
      "              ^^^^^^^^^^^^^^^^^^^^^\n",
      "RecursionError: maximum recursion depth exceeded while calling a Python object\n"
     ]
    }
   ],
   "source": [
    "n = 0\n",
    "def python():\n",
    "    global n\n",
    "    n += 1\n",
    "    print(\"Python\", n)\n",
    "    python()\n",
    "    \n",
    "python()"
   ]
  },
  {
   "cell_type": "code",
   "execution_count": 24,
   "id": "603c175a",
   "metadata": {},
   "outputs": [
    {
     "name": "stdout",
     "output_type": "stream",
     "text": [
      "Enter a number: 5\n",
      "120\n"
     ]
    }
   ],
   "source": [
    "def factorial(n):\n",
    "    if n < 2:\n",
    "        return 1\n",
    "    else:\n",
    "        return n * factorial(n-1)         # 5 * 4 * 3 * 2 * 1 * 1\n",
    "x = int(input(\"Enter a number: \"))\n",
    "result = factorial(x)\n",
    "print(result) "
   ]
  },
  {
   "cell_type": "code",
   "execution_count": 25,
   "id": "bbdcd7a3",
   "metadata": {},
   "outputs": [
    {
     "name": "stdout",
     "output_type": "stream",
     "text": [
      "in 5\n",
      "out 5\n"
     ]
    }
   ],
   "source": [
    "n = 1              # global variable\n",
    "\n",
    "def fn():\n",
    "    global n             # global keyword is used to modify the value of the global variable\n",
    "    n = 5            # local variable\n",
    "    print('in', n)\n",
    "    \n",
    "fn()\n",
    "\n",
    "print('out', n)"
   ]
  },
  {
   "cell_type": "code",
   "execution_count": 26,
   "id": "e35ac3d6",
   "metadata": {},
   "outputs": [],
   "source": [
    "# fibonacci series\n",
    "# 0\n",
    "# 1\n",
    "# 0 + 1 = 1\n",
    "# 1 + 1 = 2\n",
    "# 2 + 1 = 3\n",
    "# 3 + 2 = 5"
   ]
  },
  {
   "cell_type": "code",
   "execution_count": 27,
   "id": "0155ea48",
   "metadata": {},
   "outputs": [
    {
     "name": "stdout",
     "output_type": "stream",
     "text": [
      "Enter a number: 8\n",
      "0\n",
      "1\n",
      "1\n",
      "2\n",
      "3\n",
      "5\n",
      "8\n",
      "13\n"
     ]
    }
   ],
   "source": [
    "a = int(input(\"Enter a number: \"))\n",
    "def fib(n):\n",
    "    if n == 0:\n",
    "        return 0\n",
    "    elif n == 1:\n",
    "        return 1\n",
    "    else:\n",
    "        return fib(n-1) + fib(n-2)\n",
    "    \n",
    "for i in range(a):\n",
    "    print(fib(i))"
   ]
  },
  {
   "cell_type": "code",
   "execution_count": null,
   "id": "fdfcffdf",
   "metadata": {},
   "outputs": [],
   "source": []
  }
 ],
 "metadata": {
  "kernelspec": {
   "display_name": "Python 3 (ipykernel)",
   "language": "python",
   "name": "python3"
  },
  "language_info": {
   "codemirror_mode": {
    "name": "ipython",
    "version": 3
   },
   "file_extension": ".py",
   "mimetype": "text/x-python",
   "name": "python",
   "nbconvert_exporter": "python",
   "pygments_lexer": "ipython3",
   "version": "3.11.4"
  }
 },
 "nbformat": 4,
 "nbformat_minor": 5
}
