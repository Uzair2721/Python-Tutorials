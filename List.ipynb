{
 "cells": [
  {
   "cell_type": "code",
   "execution_count": 1,
   "id": "f077a2fa",
   "metadata": {},
   "outputs": [],
   "source": [
    "# Mutable and immutable\n",
    "# mutable - it can be changed\n",
    "# immutable - it cannot be changed"
   ]
  },
  {
   "cell_type": "code",
   "execution_count": 2,
   "id": "9e63572d",
   "metadata": {},
   "outputs": [],
   "source": [
    "# list is mutable"
   ]
  },
  {
   "cell_type": "code",
   "execution_count": 4,
   "id": "c8a2eff7",
   "metadata": {},
   "outputs": [
    {
     "name": "stdout",
     "output_type": "stream",
     "text": [
      "[1, 'Hi', 10.2, [1, 2, 3], 2, 'hello']\n"
     ]
    }
   ],
   "source": [
    "lst1 = [1, 'Hi', 10.2, [1, 2, 3]]\n",
    "lst2 = [2, 'hello']\n",
    "print(lst1 + lst2)"
   ]
  },
  {
   "cell_type": "code",
   "execution_count": 5,
   "id": "3330611a",
   "metadata": {},
   "outputs": [
    {
     "name": "stdout",
     "output_type": "stream",
     "text": [
      "[1, 'Hi', 23, [1, 2, 3]]\n"
     ]
    }
   ],
   "source": [
    "lst1 = [1, 'Hi', 10.2, [1, 2, 3]]\n",
    "lst1[2] = 23\n",
    "print(lst1)"
   ]
  },
  {
   "cell_type": "code",
   "execution_count": 6,
   "id": "23162687",
   "metadata": {},
   "outputs": [
    {
     "name": "stdout",
     "output_type": "stream",
     "text": [
      "[1, 'Hi', 23, [1, 2, 3], 1, 'Hi', 23, [1, 2, 3], 1, 'Hi', 23, [1, 2, 3]]\n"
     ]
    }
   ],
   "source": [
    "print(lst1 * 3)"
   ]
  },
  {
   "cell_type": "code",
   "execution_count": 7,
   "id": "3e6772dd",
   "metadata": {},
   "outputs": [
    {
     "name": "stdout",
     "output_type": "stream",
     "text": [
      "[1, 'Hi', 23, [1, 2, 6]]\n"
     ]
    }
   ],
   "source": [
    "lst1[3][2] = 6\n",
    "print(lst1)"
   ]
  },
  {
   "cell_type": "code",
   "execution_count": 8,
   "id": "c67c7d6b",
   "metadata": {},
   "outputs": [
    {
     "name": "stdout",
     "output_type": "stream",
     "text": [
      "True\n"
     ]
    }
   ],
   "source": [
    "print('Hi' in lst1)"
   ]
  },
  {
   "cell_type": "code",
   "execution_count": 17,
   "id": "837bba48",
   "metadata": {},
   "outputs": [],
   "source": [
    "lst1 = [1, 'Hi', 10.2, [1, 2, 3]]"
   ]
  },
  {
   "cell_type": "code",
   "execution_count": 10,
   "id": "2c71dce7",
   "metadata": {},
   "outputs": [
    {
     "name": "stdout",
     "output_type": "stream",
     "text": [
      "[1, 'Hi', 10.2, [1, 2, 3], 'Uzair']\n"
     ]
    }
   ],
   "source": [
    "lst1.append('Uzair')\n",
    "print(lst1)"
   ]
  },
  {
   "cell_type": "code",
   "execution_count": 11,
   "id": "792fceba",
   "metadata": {},
   "outputs": [
    {
     "name": "stdout",
     "output_type": "stream",
     "text": [
      "[1, 'Hi', 10.2, [1, 2, 3], 'Uzair', 9, 'hello']\n"
     ]
    }
   ],
   "source": [
    "lst1.extend([9, 'hello'])      # to add more than 1 values\n",
    "print(lst1)"
   ]
  },
  {
   "cell_type": "code",
   "execution_count": 12,
   "id": "9bd354f9",
   "metadata": {},
   "outputs": [
    {
     "name": "stdout",
     "output_type": "stream",
     "text": [
      "[1, 'Hi', 100, 10.2, [1, 2, 3], 'Uzair', 9, 'hello']\n"
     ]
    }
   ],
   "source": [
    "lst1.insert(2, 100)           # to add a value at a given index \n",
    "print(lst1)"
   ]
  },
  {
   "cell_type": "code",
   "execution_count": 13,
   "id": "0b37eb37",
   "metadata": {},
   "outputs": [
    {
     "name": "stdout",
     "output_type": "stream",
     "text": [
      "[1, 'Hi', 100, 10.2, [1, 2, 3], 9, 'hello']\n"
     ]
    }
   ],
   "source": [
    "lst1.remove('Uzair')\n",
    "print(lst1)"
   ]
  },
  {
   "cell_type": "code",
   "execution_count": 14,
   "id": "1e3b1502",
   "metadata": {},
   "outputs": [
    {
     "name": "stdout",
     "output_type": "stream",
     "text": [
      "[100, 10.2, [1, 2, 3], 9, 'hello']\n"
     ]
    }
   ],
   "source": [
    "del lst1[0:2]\n",
    "print(lst1)"
   ]
  },
  {
   "cell_type": "code",
   "execution_count": 15,
   "id": "288bffe7",
   "metadata": {},
   "outputs": [
    {
     "name": "stdout",
     "output_type": "stream",
     "text": [
      "[10.2, [1, 2, 3], 'hello']\n"
     ]
    }
   ],
   "source": [
    "del lst1[0::3]\n",
    "print(lst1)"
   ]
  },
  {
   "cell_type": "code",
   "execution_count": 16,
   "id": "5cd066d2",
   "metadata": {},
   "outputs": [
    {
     "name": "stdout",
     "output_type": "stream",
     "text": [
      "[]\n"
     ]
    }
   ],
   "source": [
    "lst1.clear()\n",
    "print(lst1)"
   ]
  },
  {
   "cell_type": "code",
   "execution_count": 18,
   "id": "b2460d88",
   "metadata": {},
   "outputs": [
    {
     "name": "stdout",
     "output_type": "stream",
     "text": [
      "[1, 'Hi', 10.2]\n"
     ]
    }
   ],
   "source": [
    "lst1.pop()\n",
    "print(lst1)"
   ]
  },
  {
   "cell_type": "code",
   "execution_count": 19,
   "id": "950c9ec9",
   "metadata": {},
   "outputs": [
    {
     "name": "stdout",
     "output_type": "stream",
     "text": [
      "[1, 10.2]\n"
     ]
    }
   ],
   "source": [
    "lst1.pop(1)\n",
    "print(lst1)"
   ]
  },
  {
   "cell_type": "code",
   "execution_count": 20,
   "id": "2ef9152a",
   "metadata": {},
   "outputs": [
    {
     "name": "stdout",
     "output_type": "stream",
     "text": [
      "[1, 2, 3, 4, 5, 7, 9]\n"
     ]
    }
   ],
   "source": [
    "lst2 = [1, 4, 2, 7, 9, 5, 3]\n",
    "lst2.sort()\n",
    "print(lst2)"
   ]
  },
  {
   "cell_type": "code",
   "execution_count": 21,
   "id": "95567d9a",
   "metadata": {},
   "outputs": [
    {
     "name": "stdout",
     "output_type": "stream",
     "text": [
      "[9, 7, 5, 4, 3, 2, 1]\n"
     ]
    }
   ],
   "source": [
    "lst2.reverse()\n",
    "print(lst2)"
   ]
  },
  {
   "cell_type": "code",
   "execution_count": 22,
   "id": "f3f5e212",
   "metadata": {},
   "outputs": [
    {
     "name": "stdout",
     "output_type": "stream",
     "text": [
      "4\n"
     ]
    }
   ],
   "source": [
    "print(lst2.index(3))"
   ]
  },
  {
   "cell_type": "code",
   "execution_count": 23,
   "id": "4aa48e78",
   "metadata": {},
   "outputs": [
    {
     "name": "stdout",
     "output_type": "stream",
     "text": [
      "2\n"
     ]
    }
   ],
   "source": [
    "lst2 = [1, 4, 2, 7, 4, 9, 5, 3]\n",
    "print(lst2.count(4))"
   ]
  },
  {
   "cell_type": "code",
   "execution_count": 24,
   "id": "7ed7fbff",
   "metadata": {},
   "outputs": [
    {
     "data": {
      "text/plain": [
       "[1, 4, 2, 7]"
      ]
     },
     "execution_count": 24,
     "metadata": {},
     "output_type": "execute_result"
    }
   ],
   "source": [
    "lst2[0:4]"
   ]
  },
  {
   "cell_type": "code",
   "execution_count": 25,
   "id": "55b31c5a",
   "metadata": {},
   "outputs": [
    {
     "data": {
      "text/plain": [
       "[1, 4, 2, 7, 4]"
      ]
     },
     "execution_count": 25,
     "metadata": {},
     "output_type": "execute_result"
    }
   ],
   "source": [
    "lst2[:5]"
   ]
  },
  {
   "cell_type": "code",
   "execution_count": 26,
   "id": "f11e5f6f",
   "metadata": {},
   "outputs": [
    {
     "data": {
      "text/plain": [
       "[7, 4, 9, 5, 3]"
      ]
     },
     "execution_count": 26,
     "metadata": {},
     "output_type": "execute_result"
    }
   ],
   "source": [
    "lst2[3:]"
   ]
  },
  {
   "cell_type": "code",
   "execution_count": 27,
   "id": "7733bde7",
   "metadata": {},
   "outputs": [
    {
     "data": {
      "text/plain": [
       "[1, 2, 4]"
      ]
     },
     "execution_count": 27,
     "metadata": {},
     "output_type": "execute_result"
    }
   ],
   "source": [
    "lst2[0:6:2]"
   ]
  },
  {
   "cell_type": "code",
   "execution_count": 28,
   "id": "8ff00a81",
   "metadata": {},
   "outputs": [],
   "source": [
    "# list comprehension"
   ]
  },
  {
   "cell_type": "code",
   "execution_count": 33,
   "id": "a84c947c",
   "metadata": {},
   "outputs": [],
   "source": [
    "x = []"
   ]
  },
  {
   "cell_type": "code",
   "execution_count": 30,
   "id": "684c0d41",
   "metadata": {},
   "outputs": [
    {
     "name": "stdout",
     "output_type": "stream",
     "text": [
      "[0, 1, 4, 9, 16, 25, 36, 49, 64, 81, 100]\n"
     ]
    }
   ],
   "source": [
    "for i in range(11):\n",
    "    z = i**2\n",
    "    x.append(z)\n",
    "print(x)"
   ]
  },
  {
   "cell_type": "code",
   "execution_count": 35,
   "id": "21f060cb",
   "metadata": {},
   "outputs": [
    {
     "name": "stdout",
     "output_type": "stream",
     "text": [
      "[0, 4, 16, 36, 64, 100]\n"
     ]
    }
   ],
   "source": [
    "x = [i**2 for i in range(11) if i**2 % 2 == 0]\n",
    "print(x)"
   ]
  },
  {
   "cell_type": "code",
   "execution_count": 36,
   "id": "0c57b427",
   "metadata": {},
   "outputs": [],
   "source": [
    "lst2 = [1, 4, 2, 7, 4, 9, 5, 3, {1:100, 2:200}]"
   ]
  },
  {
   "cell_type": "code",
   "execution_count": 37,
   "id": "8aa1bf39",
   "metadata": {},
   "outputs": [
    {
     "name": "stdout",
     "output_type": "stream",
     "text": [
      "[1, 4, 2, 7, 4, 9, 5, 3, {1: 100, 2: 300}]\n"
     ]
    }
   ],
   "source": [
    "lst2[-1][2] = 300\n",
    "print(lst2)"
   ]
  },
  {
   "cell_type": "code",
   "execution_count": 38,
   "id": "4f126645",
   "metadata": {},
   "outputs": [
    {
     "name": "stdout",
     "output_type": "stream",
     "text": [
      "9\n"
     ]
    }
   ],
   "source": [
    "print(len(lst2))"
   ]
  },
  {
   "cell_type": "code",
   "execution_count": null,
   "id": "a8fcc6af",
   "metadata": {},
   "outputs": [],
   "source": []
  }
 ],
 "metadata": {
  "kernelspec": {
   "display_name": "Python 3 (ipykernel)",
   "language": "python",
   "name": "python3"
  },
  "language_info": {
   "codemirror_mode": {
    "name": "ipython",
    "version": 3
   },
   "file_extension": ".py",
   "mimetype": "text/x-python",
   "name": "python",
   "nbconvert_exporter": "python",
   "pygments_lexer": "ipython3",
   "version": "3.11.4"
  }
 },
 "nbformat": 4,
 "nbformat_minor": 5
}
