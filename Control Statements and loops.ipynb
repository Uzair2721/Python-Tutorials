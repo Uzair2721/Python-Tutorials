{
 "cells": [
  {
   "cell_type": "markdown",
   "id": "9334f5eb",
   "metadata": {},
   "source": [
    "# If statement"
   ]
  },
  {
   "cell_type": "code",
   "execution_count": 1,
   "id": "c8f4b863",
   "metadata": {},
   "outputs": [],
   "source": [
    "# if (test expression):\n",
    "     # statement 1\n",
    "# statement 2"
   ]
  },
  {
   "cell_type": "code",
   "execution_count": 5,
   "id": "93e165c5",
   "metadata": {},
   "outputs": [
    {
     "name": "stdout",
     "output_type": "stream",
     "text": [
      "Enter a number: 8\n",
      "Greater than 5\n",
      "Done\n"
     ]
    }
   ],
   "source": [
    "a = int(input(\"Enter a number: \"))\n",
    "if a >= 5:\n",
    "    print(\"Greater than 5\")\n",
    "print(\"Done\")"
   ]
  },
  {
   "cell_type": "markdown",
   "id": "3a41f276",
   "metadata": {},
   "source": [
    "# Else "
   ]
  },
  {
   "cell_type": "code",
   "execution_count": 6,
   "id": "201e107b",
   "metadata": {},
   "outputs": [],
   "source": [
    "# if (test expression):\n",
    "     # statement 1\n",
    "# else:\n",
    "     # statement 2\n",
    "# statement 3"
   ]
  },
  {
   "cell_type": "code",
   "execution_count": 8,
   "id": "37e452b0",
   "metadata": {},
   "outputs": [
    {
     "name": "stdout",
     "output_type": "stream",
     "text": [
      "Enter your age: 15\n",
      "Not eligible\n",
      "done\n"
     ]
    }
   ],
   "source": [
    "age = int(input(\"Enter your age: \"))\n",
    "\n",
    "if age >= 18:\n",
    "    print(\"Eligible to vote\")\n",
    "else:\n",
    "    print(\"Not eligible\")\n",
    "print(\"done\")"
   ]
  },
  {
   "cell_type": "markdown",
   "id": "e14c89df",
   "metadata": {},
   "source": [
    "# Elif"
   ]
  },
  {
   "cell_type": "code",
   "execution_count": 9,
   "id": "6cdd6a3e",
   "metadata": {},
   "outputs": [],
   "source": [
    "# if (test expression):\n",
    "     # statement 1\n",
    "# elif (test expression):\n",
    "     # statement 2\n",
    "# else:\n",
    "     # statement 3\n",
    "# statement 4"
   ]
  },
  {
   "cell_type": "code",
   "execution_count": 15,
   "id": "1fb4ff47",
   "metadata": {},
   "outputs": [
    {
     "name": "stdout",
     "output_type": "stream",
     "text": [
      "Enter number 1: 4\n",
      "Enter number 2: 3\n",
      "Enter a number from 1 to 5: 7\n",
      "Invalid Input\n",
      "done\n"
     ]
    }
   ],
   "source": [
    "a = int(input(\"Enter number 1: \"))\n",
    "b = int(input(\"Enter number 2: \"))\n",
    "c = int(input(\"Enter a number from 1 to 5: \"))\n",
    "\n",
    "if c == 1:\n",
    "    print(\"Addition: \", a + b)\n",
    "elif c == 2:\n",
    "    print(\"Subtraction: \", a - b)\n",
    "elif c == 3:\n",
    "    print(\"Mulitplication: \", a * b)\n",
    "elif c == 4:\n",
    "    print(\"Division: \", a/b)\n",
    "elif c == 5:\n",
    "    print(\"Exit\")\n",
    "else:\n",
    "    print(\"Invalid Input\")\n",
    "print(\"done\")"
   ]
  },
  {
   "cell_type": "markdown",
   "id": "db0b3f96",
   "metadata": {},
   "source": [
    "# Range function"
   ]
  },
  {
   "cell_type": "code",
   "execution_count": 18,
   "id": "7bcd8251",
   "metadata": {},
   "outputs": [
    {
     "name": "stdout",
     "output_type": "stream",
     "text": [
      "[2, 5, 8, 11, 14, 17]\n"
     ]
    }
   ],
   "source": [
    "# range(start value, end value, step)\n",
    "n = list(range(2,20,3))\n",
    "print(n)"
   ]
  },
  {
   "cell_type": "markdown",
   "id": "1bc686dc",
   "metadata": {},
   "source": [
    "# Loops"
   ]
  },
  {
   "cell_type": "code",
   "execution_count": 19,
   "id": "65ee28ba",
   "metadata": {},
   "outputs": [],
   "source": [
    "# for loop\n",
    "# while loop"
   ]
  },
  {
   "cell_type": "markdown",
   "id": "460bfb40",
   "metadata": {},
   "source": [
    "For loop"
   ]
  },
  {
   "cell_type": "code",
   "execution_count": 20,
   "id": "8e24d4c6",
   "metadata": {},
   "outputs": [
    {
     "name": "stdout",
     "output_type": "stream",
     "text": [
      "Bruce\n",
      "10.2\n",
      "198\n",
      "Done\n"
     ]
    }
   ],
   "source": [
    "l = [\"Bruce\", 10.2, 198]\n",
    "for i in l:\n",
    "    print(i)\n",
    "print(\"Done\")"
   ]
  },
  {
   "cell_type": "code",
   "execution_count": 21,
   "id": "c6d4448f",
   "metadata": {},
   "outputs": [
    {
     "name": "stdout",
     "output_type": "stream",
     "text": [
      "2\n",
      "3\n",
      "4\n",
      "5\n",
      "6\n"
     ]
    }
   ],
   "source": [
    "for num in range(2,7):\n",
    "    print(num)"
   ]
  },
  {
   "cell_type": "code",
   "execution_count": 24,
   "id": "cba5613b",
   "metadata": {},
   "outputs": [
    {
     "name": "stdout",
     "output_type": "stream",
     "text": [
      "20\n",
      "18\n",
      "16\n",
      "14\n",
      "12\n"
     ]
    }
   ],
   "source": [
    "for i in range(20, 10, -2):\n",
    "    print(i)"
   ]
  },
  {
   "cell_type": "code",
   "execution_count": 29,
   "id": "d2d7123d",
   "metadata": {},
   "outputs": [
    {
     "name": "stdout",
     "output_type": "stream",
     "text": [
      "This is python language"
     ]
    }
   ],
   "source": [
    "a = \"This is python language\"\n",
    "for i in a:\n",
    "    print(i, end=\"\")"
   ]
  },
  {
   "cell_type": "code",
   "execution_count": 30,
   "id": "4a8d326d",
   "metadata": {},
   "outputs": [
    {
     "name": "stdout",
     "output_type": "stream",
     "text": [
      "1\n",
      "2\n",
      "3\n",
      "4\n",
      "5\n",
      "7\n",
      "8\n",
      "9\n",
      "loop ended\n"
     ]
    }
   ],
   "source": [
    "for i in range(1,10):\n",
    "    if i == 6:\n",
    "        continue             # continue skips the given condition and goes to the next value\n",
    "    print(i)\n",
    "print(\"loop ended\")"
   ]
  },
  {
   "cell_type": "code",
   "execution_count": 32,
   "id": "5644e1f6",
   "metadata": {},
   "outputs": [
    {
     "name": "stdout",
     "output_type": "stream",
     "text": [
      "1\n",
      "2\n",
      "3\n",
      "4\n",
      "5\n",
      "loop ended\n"
     ]
    }
   ],
   "source": [
    "for i in range(1,10):\n",
    "    if i == 6:\n",
    "        break             # break is used to terminate the loop for the given condition\n",
    "    print(i)\n",
    "print(\"loop ended\")"
   ]
  },
  {
   "cell_type": "markdown",
   "id": "48410a23",
   "metadata": {},
   "source": [
    "While loop"
   ]
  },
  {
   "cell_type": "code",
   "execution_count": 33,
   "id": "2af7a250",
   "metadata": {},
   "outputs": [],
   "source": [
    "# counter variable\n",
    "# while (test expression):\n",
    "    # statement\n",
    "    # increment / decrement"
   ]
  },
  {
   "cell_type": "code",
   "execution_count": 4,
   "id": "fc3c1766",
   "metadata": {},
   "outputs": [
    {
     "name": "stdout",
     "output_type": "stream",
     "text": [
      "1\n",
      "2\n",
      "3\n",
      "4\n",
      "5\n"
     ]
    }
   ],
   "source": [
    "count = 1\n",
    "while count <= 5:\n",
    "    print(count)\n",
    "    count += 1"
   ]
  },
  {
   "cell_type": "code",
   "execution_count": 2,
   "id": "26e93e71",
   "metadata": {},
   "outputs": [
    {
     "name": "stdout",
     "output_type": "stream",
     "text": [
      "5\n",
      "4\n",
      "3\n",
      "2\n",
      "1\n"
     ]
    }
   ],
   "source": [
    "count = 5\n",
    "while count >= 1:\n",
    "    print(count)\n",
    "    count -= 1"
   ]
  },
  {
   "cell_type": "code",
   "execution_count": 5,
   "id": "981aeed8",
   "metadata": {},
   "outputs": [
    {
     "name": "stdout",
     "output_type": "stream",
     "text": [
      "5\n",
      "10\n",
      "15\n",
      "20\n",
      "25\n",
      "30\n",
      "35\n",
      "40\n",
      "45\n",
      "50\n",
      "55\n",
      "60\n",
      "65\n",
      "70\n",
      "75\n",
      "80\n",
      "85\n",
      "90\n",
      "95\n"
     ]
    }
   ],
   "source": [
    "integer = 1\n",
    "while integer < 100:\n",
    "    if integer % 5 == 0:\n",
    "        print(integer)\n",
    "    integer += 1"
   ]
  },
  {
   "cell_type": "code",
   "execution_count": 6,
   "id": "2ffa104d",
   "metadata": {},
   "outputs": [
    {
     "name": "stdout",
     "output_type": "stream",
     "text": [
      "1\n",
      "2\n",
      "4\n",
      "5\n",
      "6\n"
     ]
    }
   ],
   "source": [
    "i = 0\n",
    "while i < 6:\n",
    "    i += 1\n",
    "    if i == 3:\n",
    "        continue\n",
    "    print(i)        "
   ]
  },
  {
   "cell_type": "code",
   "execution_count": 7,
   "id": "5d110193",
   "metadata": {},
   "outputs": [
    {
     "name": "stdout",
     "output_type": "stream",
     "text": [
      "1\n",
      "2\n"
     ]
    }
   ],
   "source": [
    "i = 0\n",
    "while i < 6:\n",
    "    i += 1\n",
    "    if i == 3:\n",
    "        break\n",
    "    print(i) "
   ]
  },
  {
   "cell_type": "code",
   "execution_count": 8,
   "id": "98b6be87",
   "metadata": {},
   "outputs": [
    {
     "name": "stdout",
     "output_type": "stream",
     "text": [
      "1\n",
      "2\n",
      "3\n",
      "4\n",
      "5\n",
      "6\n"
     ]
    }
   ],
   "source": [
    "i = 0\n",
    "while i < 6:\n",
    "    i += 1\n",
    "    if i == 3:\n",
    "        pass\n",
    "    print(i) "
   ]
  },
  {
   "cell_type": "markdown",
   "id": "80eab70e",
   "metadata": {},
   "source": [
    "Nested Loops"
   ]
  },
  {
   "cell_type": "code",
   "execution_count": 16,
   "id": "18d16f3e",
   "metadata": {},
   "outputs": [
    {
     "name": "stdout",
     "output_type": "stream",
     "text": [
      "1 \n",
      "1 2 \n",
      "1 2 3 \n",
      "1 2 3 4 \n",
      "1 2 3 4 5 \n"
     ]
    }
   ],
   "source": [
    "for i in range(1,6):\n",
    "    for j in range(1,i+1):\n",
    "        print(j, end=\" \")\n",
    "    print()"
   ]
  },
  {
   "cell_type": "code",
   "execution_count": 18,
   "id": "4979a94b",
   "metadata": {},
   "outputs": [
    {
     "name": "stdout",
     "output_type": "stream",
     "text": [
      "enter a number: 5\n",
      "0 \n",
      "\n",
      "0 1 \n",
      "\n",
      "0 1 2 \n",
      "\n",
      "0 1 2 3 \n",
      "\n",
      "0 1 2 3 4 \n",
      "\n"
     ]
    }
   ],
   "source": [
    "rows = int(input(\"enter a number: \"))\n",
    "for i in range(rows):\n",
    "    for j in range(i+1):\n",
    "        print(j+1, end=\" \")\n",
    "    print(\"\\n\")"
   ]
  },
  {
   "cell_type": "code",
   "execution_count": 19,
   "id": "a49fa63d",
   "metadata": {},
   "outputs": [
    {
     "name": "stdout",
     "output_type": "stream",
     "text": [
      "1 \n",
      "2 2 \n",
      "3 3 3 \n",
      "4 4 4 4 \n",
      "5 5 5 5 5 \n"
     ]
    }
   ],
   "source": [
    "for i in range(1,6):\n",
    "    for j in range(1,i+1):\n",
    "        print(i, end=\" \")\n",
    "    print()"
   ]
  },
  {
   "cell_type": "code",
   "execution_count": 21,
   "id": "0459e7e2",
   "metadata": {},
   "outputs": [
    {
     "name": "stdout",
     "output_type": "stream",
     "text": [
      "enter a number: 5\n",
      "1 2 3 4 5 \n",
      "1 2 3 4 \n",
      "1 2 3 \n",
      "1 2 \n",
      "1 \n"
     ]
    }
   ],
   "source": [
    "rows = int(input(\"enter a number: \"))\n",
    "for i in range(rows,0,-1):\n",
    "    for j in range(1,i+1):\n",
    "        print(j, end=\" \")\n",
    "    print()"
   ]
  },
  {
   "cell_type": "code",
   "execution_count": null,
   "id": "6bd4689f",
   "metadata": {},
   "outputs": [],
   "source": []
  }
 ],
 "metadata": {
  "kernelspec": {
   "display_name": "Python 3 (ipykernel)",
   "language": "python",
   "name": "python3"
  },
  "language_info": {
   "codemirror_mode": {
    "name": "ipython",
    "version": 3
   },
   "file_extension": ".py",
   "mimetype": "text/x-python",
   "name": "python",
   "nbconvert_exporter": "python",
   "pygments_lexer": "ipython3",
   "version": "3.11.4"
  }
 },
 "nbformat": 4,
 "nbformat_minor": 5
}
