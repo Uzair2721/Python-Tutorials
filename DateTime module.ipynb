{
 "cells": [
  {
   "cell_type": "code",
   "execution_count": 1,
   "id": "6354cfe2",
   "metadata": {},
   "outputs": [],
   "source": [
    "# it is an inbuilt module to deal with date and time"
   ]
  },
  {
   "cell_type": "code",
   "execution_count": 2,
   "id": "6c6cea8a",
   "metadata": {},
   "outputs": [],
   "source": [
    "import datetime as dt"
   ]
  },
  {
   "cell_type": "code",
   "execution_count": 3,
   "id": "a62d68ed",
   "metadata": {},
   "outputs": [
    {
     "name": "stdout",
     "output_type": "stream",
     "text": [
      "2023-10-20 19:49:30.314960\n"
     ]
    }
   ],
   "source": [
    "today = dt.datetime.today()\n",
    "print(today)"
   ]
  },
  {
   "cell_type": "code",
   "execution_count": 33,
   "id": "0fd2d740",
   "metadata": {},
   "outputs": [],
   "source": [
    "from datetime import datetime, date, time, timedelta"
   ]
  },
  {
   "cell_type": "code",
   "execution_count": 7,
   "id": "2d15b1d5",
   "metadata": {},
   "outputs": [
    {
     "name": "stdout",
     "output_type": "stream",
     "text": [
      "<class 'datetime.date'>\n"
     ]
    }
   ],
   "source": [
    "print(type(date.today()))"
   ]
  },
  {
   "cell_type": "code",
   "execution_count": 8,
   "id": "7a70c1f7",
   "metadata": {},
   "outputs": [
    {
     "name": "stdout",
     "output_type": "stream",
     "text": [
      "2023-10-20 19:52:20.703624\n"
     ]
    }
   ],
   "source": [
    "now = datetime.now()\n",
    "print(now)"
   ]
  },
  {
   "cell_type": "code",
   "execution_count": 12,
   "id": "c9eb9982",
   "metadata": {},
   "outputs": [
    {
     "name": "stdout",
     "output_type": "stream",
     "text": [
      "2023-02-24\n"
     ]
    }
   ],
   "source": [
    "date = date(2023,2,24)\n",
    "print(date)"
   ]
  },
  {
   "cell_type": "code",
   "execution_count": 14,
   "id": "3243f07d",
   "metadata": {},
   "outputs": [
    {
     "ename": "AttributeError",
     "evalue": "'datetime.date' object has no attribute 'timestamp'",
     "output_type": "error",
     "traceback": [
      "\u001b[1;31m---------------------------------------------------------------------------\u001b[0m",
      "\u001b[1;31mAttributeError\u001b[0m                            Traceback (most recent call last)",
      "Cell \u001b[1;32mIn[14], line 1\u001b[0m\n\u001b[1;32m----> 1\u001b[0m ts \u001b[38;5;241m=\u001b[39m date\u001b[38;5;241m.\u001b[39mtimestamp(date)\n\u001b[0;32m      2\u001b[0m \u001b[38;5;28mprint\u001b[39m(ts)\n",
      "\u001b[1;31mAttributeError\u001b[0m: 'datetime.date' object has no attribute 'timestamp'"
     ]
    }
   ],
   "source": [
    "ts = date.timestamp(date)\n",
    "print(ts)"
   ]
  },
  {
   "cell_type": "code",
   "execution_count": 10,
   "id": "2a8e41ec",
   "metadata": {},
   "outputs": [
    {
     "name": "stdout",
     "output_type": "stream",
     "text": [
      "2023-03-09\n"
     ]
    }
   ],
   "source": [
    "ts_to_date = date.fromtimestamp(1678374453)\n",
    "print(ts_to_date)"
   ]
  },
  {
   "cell_type": "code",
   "execution_count": 15,
   "id": "0ffd51a1",
   "metadata": {},
   "outputs": [
    {
     "name": "stdout",
     "output_type": "stream",
     "text": [
      "day:  24\n",
      "month:  2\n",
      "year:  2023\n"
     ]
    }
   ],
   "source": [
    "print(\"day: \", date.day)\n",
    "print(\"month: \", date.month)\n",
    "print(\"year: \", date.year)"
   ]
  },
  {
   "cell_type": "code",
   "execution_count": 16,
   "id": "fbc61ec7",
   "metadata": {},
   "outputs": [
    {
     "name": "stdout",
     "output_type": "stream",
     "text": [
      "20:31:53.000199\n"
     ]
    }
   ],
   "source": [
    "time = time(20,31,53,199)\n",
    "print(time)"
   ]
  },
  {
   "cell_type": "code",
   "execution_count": 23,
   "id": "3403ea6d",
   "metadata": {},
   "outputs": [
    {
     "name": "stdout",
     "output_type": "stream",
     "text": [
      "09:00:00\n"
     ]
    }
   ],
   "source": [
    "a = time(9)\n",
    "print(a)"
   ]
  },
  {
   "cell_type": "code",
   "execution_count": 24,
   "id": "6c18efae",
   "metadata": {},
   "outputs": [
    {
     "name": "stdout",
     "output_type": "stream",
     "text": [
      "2023-04-21 08:32:42.001000\n"
     ]
    }
   ],
   "source": [
    "datetime = datetime(2023, 4, 21, 8, 32, 42, 1000)\n",
    "print(datetime)"
   ]
  },
  {
   "cell_type": "code",
   "execution_count": 29,
   "id": "d5538552",
   "metadata": {},
   "outputs": [
    {
     "name": "stdout",
     "output_type": "stream",
     "text": [
      "71 days, 8:44:40\n"
     ]
    }
   ],
   "source": [
    "date1 = datetime(2023,3,24,12,30,34)\n",
    "date2 = datetime(2023,1,12,3,45,54)\n",
    "diff = date1 - date2\n",
    "print(diff)"
   ]
  },
  {
   "cell_type": "code",
   "execution_count": 31,
   "id": "6e248443",
   "metadata": {},
   "outputs": [
    {
     "name": "stdout",
     "output_type": "stream",
     "text": [
      "2023-11-09\n"
     ]
    }
   ],
   "source": [
    "date_20 = date.today() + timedelta(days = 20)\n",
    "print(date_20)"
   ]
  },
  {
   "cell_type": "code",
   "execution_count": 36,
   "id": "c2d3f71b",
   "metadata": {},
   "outputs": [
    {
     "name": "stdout",
     "output_type": "stream",
     "text": [
      "10-20-23, 19:49:30\n",
      "<class 'str'>\n"
     ]
    }
   ],
   "source": [
    "# strftime gives datetime in string format\n",
    "str_date = today.strftime(\"%d-%m-%y, %H:%M:%S\")\n",
    "print(str_date)\n",
    "print(type(str_date))"
   ]
  },
  {
   "cell_type": "code",
   "execution_count": 37,
   "id": "b9aa864a",
   "metadata": {},
   "outputs": [
    {
     "name": "stdout",
     "output_type": "stream",
     "text": [
      "Friday\n"
     ]
    }
   ],
   "source": [
    "day = today.strftime(\"%A\")\n",
    "print(day)"
   ]
  },
  {
   "cell_type": "code",
   "execution_count": 38,
   "id": "2e602e5a",
   "metadata": {},
   "outputs": [
    {
     "name": "stdout",
     "output_type": "stream",
     "text": [
      "Fri\n"
     ]
    }
   ],
   "source": [
    "day = today.strftime(\"%a\")\n",
    "print(day)"
   ]
  },
  {
   "cell_type": "code",
   "execution_count": 39,
   "id": "f8d15b50",
   "metadata": {},
   "outputs": [
    {
     "name": "stdout",
     "output_type": "stream",
     "text": [
      "42\n"
     ]
    }
   ],
   "source": [
    "week = today.strftime(\"%W\")\n",
    "print(week)"
   ]
  },
  {
   "cell_type": "code",
   "execution_count": 40,
   "id": "9223e06d",
   "metadata": {},
   "outputs": [
    {
     "name": "stdout",
     "output_type": "stream",
     "text": [
      "5\n"
     ]
    }
   ],
   "source": [
    "day = today.strftime(\"%w\")\n",
    "print(day)"
   ]
  },
  {
   "cell_type": "code",
   "execution_count": 41,
   "id": "3ad89fc9",
   "metadata": {},
   "outputs": [
    {
     "name": "stdout",
     "output_type": "stream",
     "text": [
      "2023\n"
     ]
    }
   ],
   "source": [
    "year = today.strftime(\"%Y\")\n",
    "print(year)"
   ]
  },
  {
   "cell_type": "code",
   "execution_count": 42,
   "id": "408eee78",
   "metadata": {},
   "outputs": [
    {
     "name": "stdout",
     "output_type": "stream",
     "text": [
      "10\n"
     ]
    }
   ],
   "source": [
    "month = today.strftime(\"%m\")\n",
    "print(month)"
   ]
  },
  {
   "cell_type": "code",
   "execution_count": 47,
   "id": "e3fb30ed",
   "metadata": {},
   "outputs": [
    {
     "name": "stdout",
     "output_type": "stream",
     "text": [
      "2023-10-20 20:14:34\n"
     ]
    }
   ],
   "source": [
    "# strptime used to create datetime object from the given string\n",
    "\n",
    "date_string = '23-10-20, 20:14:34'\n",
    "datetime = datetime.strptime(date_string, \"%y-%m-%d, %H:%M:%S\")\n",
    "print(datetime)"
   ]
  },
  {
   "cell_type": "code",
   "execution_count": null,
   "id": "727d44a9",
   "metadata": {},
   "outputs": [],
   "source": []
  }
 ],
 "metadata": {
  "kernelspec": {
   "display_name": "Python 3 (ipykernel)",
   "language": "python",
   "name": "python3"
  },
  "language_info": {
   "codemirror_mode": {
    "name": "ipython",
    "version": 3
   },
   "file_extension": ".py",
   "mimetype": "text/x-python",
   "name": "python",
   "nbconvert_exporter": "python",
   "pygments_lexer": "ipython3",
   "version": "3.11.4"
  }
 },
 "nbformat": 4,
 "nbformat_minor": 5
}
