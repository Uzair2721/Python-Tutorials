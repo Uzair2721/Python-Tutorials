{
 "cells": [
  {
   "cell_type": "code",
   "execution_count": null,
   "id": "458bcfdb",
   "metadata": {},
   "outputs": [],
   "source": [
    "Also called RegEx\n",
    "RegEx is a sequence of characters which forms a search pattern"
   ]
  },
  {
   "cell_type": "code",
   "execution_count": null,
   "id": "a4f59a90",
   "metadata": {},
   "outputs": [],
   "source": [
    "# functions in regex:\n",
    "1. match(pattern, string, flags) - used to check if the pattern is exactly the same\n",
    "2. findall(pattern, string, flags) - returns a list of all matches\n",
    "3. search(pattern, string, flags) - returns a match object if it is anywhere in the string, checks if the pattern is present, even additional characters are acceptable\n",
    "4. split() - returns the list of string and splits the string at every match\n",
    "5. sub(pattern, repl, string, count, flags) - to replace a string"
   ]
  },
  {
   "cell_type": "code",
   "execution_count": null,
   "id": "0a359089",
   "metadata": {},
   "outputs": [],
   "source": [
    "Metacharacters - characters which have special meaning in python\n",
    "\n",
    "1. \"[]\" - a set of charactersz, eg. [a-z] means any lowercase characters between a and z\n",
    "2. \"\\\" - signifies a special sequence\n",
    "3. \".\" - any character\n",
    "4. \"^\" - starts with\n",
    "5. \"$\" - ends with\n",
    "6. \".*\" - any number of characters(0 or more)\n",
    "7. \".+\" - any number of characters(1 or more)\n",
    "8. \"{}\" - used to specify the exact number of characters\n",
    "9. \"|\" - either or"
   ]
  },
  {
   "cell_type": "code",
   "execution_count": 1,
   "id": "159229e2",
   "metadata": {},
   "outputs": [],
   "source": [
    "import re"
   ]
  },
  {
   "cell_type": "code",
   "execution_count": 3,
   "id": "4c0b56e4",
   "metadata": {},
   "outputs": [
    {
     "name": "stdout",
     "output_type": "stream",
     "text": [
      "False\n"
     ]
    }
   ],
   "source": [
    "# 1. match()\n",
    "pattern = \"apple\"\n",
    "if re.match(pattern, \"appl\", flags=1):\n",
    "    print(\"True\")\n",
    "else:\n",
    "    print(\"False\")"
   ]
  },
  {
   "cell_type": "code",
   "execution_count": 8,
   "id": "9572a5aa",
   "metadata": {},
   "outputs": [
    {
     "name": "stdout",
     "output_type": "stream",
     "text": [
      "['ppl']\n"
     ]
    }
   ],
   "source": [
    "# 2. findall()\n",
    "pattern = \"apple\"\n",
    "string = re.findall(\"ppl\", pattern)\n",
    "print(string)"
   ]
  },
  {
   "cell_type": "code",
   "execution_count": 9,
   "id": "c049afcf",
   "metadata": {},
   "outputs": [
    {
     "name": "stdout",
     "output_type": "stream",
     "text": [
      "['a', 'a', 'a', 'a']\n"
     ]
    }
   ],
   "source": [
    "string = \"Python is a programming language\"\n",
    "match = re.findall(\"a\", string)\n",
    "print(match)"
   ]
  },
  {
   "cell_type": "code",
   "execution_count": 14,
   "id": "c0b17b33",
   "metadata": {},
   "outputs": [],
   "source": [
    "string = \"Python is a programming language\""
   ]
  },
  {
   "cell_type": "code",
   "execution_count": 15,
   "id": "62891445",
   "metadata": {},
   "outputs": [
    {
     "name": "stdout",
     "output_type": "stream",
     "text": [
      "<re.Match object; span=(10, 11), match='a'>\n"
     ]
    }
   ],
   "source": [
    "# 3. search()\n",
    "search = re.search(\"a\", string)\n",
    "print(search)"
   ]
  },
  {
   "cell_type": "code",
   "execution_count": 18,
   "id": "91bdf87e",
   "metadata": {},
   "outputs": [
    {
     "name": "stdout",
     "output_type": "stream",
     "text": [
      "['Python', 'is', 'a', 'programming', 'language']\n"
     ]
    }
   ],
   "source": [
    "# 4. split()\n",
    "split = re.split(\" \", string)\n",
    "print(split)"
   ]
  },
  {
   "cell_type": "code",
   "execution_count": 21,
   "id": "c36dfe02",
   "metadata": {},
   "outputs": [
    {
     "name": "stdout",
     "output_type": "stream",
     "text": [
      "It is a cat\n"
     ]
    }
   ],
   "source": [
    "# 5. sub()\n",
    "string1 = \"It is a dog\"\n",
    "pattern = \"dog\"\n",
    "print(re.sub(pattern, \"cat\", string1, count=0, flags=0))"
   ]
  },
  {
   "cell_type": "code",
   "execution_count": null,
   "id": "e782d073",
   "metadata": {},
   "outputs": [],
   "source": [
    "# sets[a-z]\n",
    "1. [abcd] - returns a match is any of the specified character is found\n",
    "2. [a-w] - returns a match for any lower case character between a and w\n",
    "3. [^abcd] - returns a match for any character accept abcd\n",
    "4. [3456] - returns a match if any of the specified digit is found\n",
    "5. [2-7] - returns a match if any of the digit between 2 to 7 is found\n",
    "6. [0-5][0] - returns a match if any two digit number is 00,10,20,30,40,50\n",
    "7. [a-zA-Z] - returns a match if any upper case or lower case character is found"
   ]
  },
  {
   "cell_type": "code",
   "execution_count": null,
   "id": "ce6dea1b",
   "metadata": {},
   "outputs": [],
   "source": [
    "# special sequences \"\\\"\n",
    "1. \"\\A\" - returns a match if the specified characters are at the beginning of the string\n",
    "2. \"\\Z\" - returns a match if the specified characters are at the end of the string\n",
    "3. \"\\d\" - returns a match if the string has digits\n",
    "4. \"\\D\" - returns a match if the character is not a digit\n",
    "5. \"\\b\" - returns a match if the specified characters are present at the beginning or end of the word\n",
    "6. \"\\B\" - returns a match if the specified characters are not present at the beginning or end of the word\n",
    "7. \"\\s\" - matches any white space\n",
    "8. \"\\S\" - matches any non-whitespace"
   ]
  },
  {
   "cell_type": "code",
   "execution_count": 66,
   "id": "9ffa834b",
   "metadata": {},
   "outputs": [],
   "source": [
    "string = \"Python is a Programming Language\""
   ]
  },
  {
   "cell_type": "code",
   "execution_count": 25,
   "id": "65995d36",
   "metadata": {},
   "outputs": [
    {
     "name": "stdout",
     "output_type": "stream",
     "text": [
      "[' is ', 'ming']\n"
     ]
    }
   ],
   "source": [
    "# \".\"\n",
    "char = re.findall(\".i..\", string)\n",
    "print(char)"
   ]
  },
  {
   "cell_type": "code",
   "execution_count": 78,
   "id": "21943ac4",
   "metadata": {},
   "outputs": [
    {
     "name": "stdout",
     "output_type": "stream",
     "text": [
      "['P']\n"
     ]
    }
   ],
   "source": [
    "# \"^\"\n",
    "char = re.findall(\"^P\", string)\n",
    "print(char)"
   ]
  },
  {
   "cell_type": "code",
   "execution_count": 36,
   "id": "f54e7992",
   "metadata": {},
   "outputs": [
    {
     "name": "stdout",
     "output_type": "stream",
     "text": [
      "['guage']\n"
     ]
    }
   ],
   "source": [
    "# \"$\"\n",
    "char = re.findall(\"..age$\", string)\n",
    "print(char)"
   ]
  },
  {
   "cell_type": "code",
   "execution_count": 37,
   "id": "5477a67b",
   "metadata": {},
   "outputs": [
    {
     "name": "stdout",
     "output_type": "stream",
     "text": [
      "['Python is a programming lan']\n"
     ]
    }
   ],
   "source": [
    "# \".*\"\n",
    "char = re.findall(\"P.*n\", string)\n",
    "print(char)"
   ]
  },
  {
   "cell_type": "code",
   "execution_count": 38,
   "id": "2eebefac",
   "metadata": {},
   "outputs": [
    {
     "name": "stdout",
     "output_type": "stream",
     "text": [
      "['Python is a programming lan']\n"
     ]
    }
   ],
   "source": [
    "# \".+\"\n",
    "char = re.findall(\"P.+n\", string)\n",
    "print(char)"
   ]
  },
  {
   "cell_type": "code",
   "execution_count": 42,
   "id": "4220f165",
   "metadata": {},
   "outputs": [
    {
     "name": "stdout",
     "output_type": "stream",
     "text": [
      "['pin']\n"
     ]
    }
   ],
   "source": [
    "s = \"pin\"\n",
    "char = re.findall(\"p.+n\", s)\n",
    "print(char)"
   ]
  },
  {
   "cell_type": "code",
   "execution_count": 51,
   "id": "f58656ea",
   "metadata": {},
   "outputs": [
    {
     "name": "stdout",
     "output_type": "stream",
     "text": [
      "['Python is a p']\n"
     ]
    }
   ],
   "source": [
    "# \"{}\"\n",
    "char = re.findall(\"P.{12}\", string)\n",
    "print(char)"
   ]
  },
  {
   "cell_type": "code",
   "execution_count": 52,
   "id": "fe872f14",
   "metadata": {},
   "outputs": [
    {
     "name": "stdout",
     "output_type": "stream",
     "text": [
      "['Python', 'programming']\n"
     ]
    }
   ],
   "source": [
    "# \"|\"\n",
    "char = re.findall(\"P.{4}n|programming\", string) \n",
    "print(char)"
   ]
  },
  {
   "cell_type": "code",
   "execution_count": 55,
   "id": "7f92ba45",
   "metadata": {},
   "outputs": [
    {
     "name": "stdout",
     "output_type": "stream",
     "text": [
      "['s', 'p', 'g', 'g', 'g', 'g', 'e']\n"
     ]
    }
   ],
   "source": [
    "# [abcd]\n",
    "char = re.findall(\"[epsg]\", string)\n",
    "print(char)"
   ]
  },
  {
   "cell_type": "code",
   "execution_count": 56,
   "id": "d5b87248",
   "metadata": {},
   "outputs": [
    {
     "name": "stdout",
     "output_type": "stream",
     "text": [
      "['h', 'i', 'a', 'g', 'a', 'i', 'g', 'a', 'g', 'a', 'g', 'e']\n"
     ]
    }
   ],
   "source": [
    "# [a-w]\n",
    "char = re.findall(\"[a-i]\", string)\n",
    "print(char)"
   ]
  },
  {
   "cell_type": "code",
   "execution_count": 57,
   "id": "f7fd91d3",
   "metadata": {},
   "outputs": [
    {
     "name": "stdout",
     "output_type": "stream",
     "text": [
      "['P', 'y', 't', 'h', 'o', 'n', ' ', 'i', ' ', 'a', ' ', 'r', 'o', 'r', 'a', 'm', 'm', 'i', 'n', ' ', 'l', 'a', 'n', 'u', 'a']\n"
     ]
    }
   ],
   "source": [
    "# [^abcd]\n",
    "char = re.findall(\"[^epsg]\", string)\n",
    "print(char)"
   ]
  },
  {
   "cell_type": "code",
   "execution_count": 63,
   "id": "6e383b5e",
   "metadata": {},
   "outputs": [],
   "source": [
    "string2 = \"I have 851 Indian rupees\""
   ]
  },
  {
   "cell_type": "code",
   "execution_count": 59,
   "id": "9be96009",
   "metadata": {},
   "outputs": [
    {
     "name": "stdout",
     "output_type": "stream",
     "text": [
      "['3', '5']\n"
     ]
    }
   ],
   "source": [
    "# [3456]\n",
    "char = re.findall(\"[3456]\", string2)\n",
    "print(char)"
   ]
  },
  {
   "cell_type": "code",
   "execution_count": 61,
   "id": "a77b283c",
   "metadata": {},
   "outputs": [
    {
     "name": "stdout",
     "output_type": "stream",
     "text": [
      "['5']\n"
     ]
    }
   ],
   "source": [
    "# [2-7]\n",
    "char = re.findall(\"[2-7]\", string2)\n",
    "print(char)"
   ]
  },
  {
   "cell_type": "code",
   "execution_count": 65,
   "id": "2446e325",
   "metadata": {},
   "outputs": [
    {
     "name": "stdout",
     "output_type": "stream",
     "text": [
      "['51']\n"
     ]
    }
   ],
   "source": [
    "# [0-5][0]\n",
    "char = re.findall(\"[0-5][0-2]\", string2)\n",
    "print(char)"
   ]
  },
  {
   "cell_type": "code",
   "execution_count": 71,
   "id": "adb7fcef",
   "metadata": {},
   "outputs": [
    {
     "name": "stdout",
     "output_type": "stream",
     "text": [
      "['P', 'P', 'L']\n"
     ]
    }
   ],
   "source": [
    "# [a-zA-Z]\n",
    "char = re.findall(\"[a-zA-Z]\", string)\n",
    "print(char)"
   ]
  },
  {
   "cell_type": "code",
   "execution_count": 93,
   "id": "ac503951",
   "metadata": {},
   "outputs": [
    {
     "name": "stdout",
     "output_type": "stream",
     "text": [
      "['Pyth']\n"
     ]
    }
   ],
   "source": [
    "# \\A\n",
    "match = re.findall(\"\\APyth\", string)\n",
    "print(match)"
   ]
  },
  {
   "cell_type": "code",
   "execution_count": 79,
   "id": "5e8b5454",
   "metadata": {},
   "outputs": [
    {
     "name": "stdout",
     "output_type": "stream",
     "text": [
      "['ge']\n"
     ]
    }
   ],
   "source": [
    "# \\Z\n",
    "match = re.findall(\"ge\\Z\", string)\n",
    "print(match)"
   ]
  },
  {
   "cell_type": "code",
   "execution_count": 80,
   "id": "101bbde6",
   "metadata": {},
   "outputs": [
    {
     "name": "stdout",
     "output_type": "stream",
     "text": [
      "['8', '5', '1']\n"
     ]
    }
   ],
   "source": [
    "# \\d\n",
    "match = re.findall(\"\\d\", string2)\n",
    "print(match)"
   ]
  },
  {
   "cell_type": "code",
   "execution_count": 81,
   "id": "174069b5",
   "metadata": {},
   "outputs": [
    {
     "name": "stdout",
     "output_type": "stream",
     "text": [
      "['I', ' ', 'h', 'a', 'v', 'e', ' ', ' ', 'I', 'n', 'd', 'i', 'a', 'n', ' ', 'r', 'u', 'p', 'e', 'e', 's']\n"
     ]
    }
   ],
   "source": [
    "# \\D\n",
    "match = re.findall(\"\\D\", string2)\n",
    "print(match)"
   ]
  },
  {
   "cell_type": "code",
   "execution_count": 95,
   "id": "a19c6315",
   "metadata": {},
   "outputs": [
    {
     "name": "stdout",
     "output_type": "stream",
     "text": [
      "[]\n"
     ]
    }
   ],
   "source": [
    "# \\b  r= raw string\n",
    "match = re.findall(r\"ing\\b\", string)\n",
    "print(match)"
   ]
  },
  {
   "cell_type": "code",
   "execution_count": 97,
   "id": "59349330",
   "metadata": {},
   "outputs": [
    {
     "name": "stdout",
     "output_type": "stream",
     "text": [
      "['in']\n"
     ]
    }
   ],
   "source": [
    "# \\B\n",
    "match = re.findall(r\"in\\B\", string)\n",
    "print(match)"
   ]
  },
  {
   "cell_type": "code",
   "execution_count": 98,
   "id": "56e9f6d1",
   "metadata": {},
   "outputs": [
    {
     "name": "stdout",
     "output_type": "stream",
     "text": [
      "[' ', ' ', ' ', ' ']\n"
     ]
    }
   ],
   "source": [
    "# \\s\n",
    "match = re.findall(\"\\s\", string)\n",
    "print(match)"
   ]
  },
  {
   "cell_type": "code",
   "execution_count": 99,
   "id": "11a2de68",
   "metadata": {},
   "outputs": [
    {
     "name": "stdout",
     "output_type": "stream",
     "text": [
      "['P', 'y', 't', 'h', 'o', 'n', 'i', 's', 'a', 'P', 'r', 'o', 'g', 'r', 'a', 'm', 'm', 'i', 'n', 'g', 'L', 'a', 'n', 'g', 'u', 'a', 'g', 'e']\n"
     ]
    }
   ],
   "source": [
    "# \\S\n",
    "match = re.findall(\"\\S\", string)\n",
    "print(match)"
   ]
  },
  {
   "cell_type": "code",
   "execution_count": null,
   "id": "b980a760",
   "metadata": {},
   "outputs": [],
   "source": []
  }
 ],
 "metadata": {
  "kernelspec": {
   "display_name": "Python 3 (ipykernel)",
   "language": "python",
   "name": "python3"
  },
  "language_info": {
   "codemirror_mode": {
    "name": "ipython",
    "version": 3
   },
   "file_extension": ".py",
   "mimetype": "text/x-python",
   "name": "python",
   "nbconvert_exporter": "python",
   "pygments_lexer": "ipython3",
   "version": "3.11.4"
  }
 },
 "nbformat": 4,
 "nbformat_minor": 5
}
