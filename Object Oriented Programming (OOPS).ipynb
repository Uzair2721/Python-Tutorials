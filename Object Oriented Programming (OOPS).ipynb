{
 "cells": [
  {
   "cell_type": "code",
   "execution_count": null,
   "id": "6809f928",
   "metadata": {},
   "outputs": [],
   "source": [
    "1. Object oriented programming consists of classes and objects\n",
    "2. OOPS is used to make the program cleaner and less complex\n",
    "3. we can have data security by using encapsulation."
   ]
  },
  {
   "cell_type": "code",
   "execution_count": null,
   "id": "390a2d91",
   "metadata": {},
   "outputs": [],
   "source": [
    "class - it is the blueprint for objects, collection of objects\n",
    "object - instance, it can be created as many times as required\n",
    "attributes - characteristics associated to the type (variables)\n",
    "methods - functions associated to the type"
   ]
  },
  {
   "cell_type": "code",
   "execution_count": null,
   "id": "98473562",
   "metadata": {},
   "outputs": [],
   "source": [
    "class name:\n",
    "    statements, methods & attributes\n",
    "    \n",
    "call the class"
   ]
  },
  {
   "cell_type": "code",
   "execution_count": 1,
   "id": "2e15a5e8",
   "metadata": {},
   "outputs": [
    {
     "name": "stdout",
     "output_type": "stream",
     "text": [
      "<__main__.car object at 0x000001EC05DD7C50>\n"
     ]
    }
   ],
   "source": [
    "# 1.\n",
    "class car:\n",
    "    pass\n",
    "\n",
    "c = car()\n",
    "print(c)"
   ]
  },
  {
   "cell_type": "code",
   "execution_count": 2,
   "id": "cb33a4eb",
   "metadata": {},
   "outputs": [
    {
     "name": "stdout",
     "output_type": "stream",
     "text": [
      "black\n"
     ]
    }
   ],
   "source": [
    "#2. using an attribute\n",
    "class car:\n",
    "    color = 'black'\n",
    "    \n",
    "c = car()\n",
    "print(c.color)"
   ]
  },
  {
   "cell_type": "code",
   "execution_count": 3,
   "id": "53f9f3d6",
   "metadata": {},
   "outputs": [
    {
     "name": "stdout",
     "output_type": "stream",
     "text": [
      "BLACK\n"
     ]
    }
   ],
   "source": [
    "#3. method\n",
    "class car:\n",
    "    color = \"black\"\n",
    "    type = \"suv\"\n",
    "    \n",
    "c = car()\n",
    "print(c.color.upper())"
   ]
  },
  {
   "cell_type": "code",
   "execution_count": 6,
   "id": "d4322aca",
   "metadata": {},
   "outputs": [
    {
     "name": "stdout",
     "output_type": "stream",
     "text": [
      "counted 1\n",
      "counted 2\n"
     ]
    }
   ],
   "source": [
    "class count:\n",
    "    n = 0\n",
    "    \n",
    "    def cnt(self):\n",
    "        self.n = self.n + 1\n",
    "        print(\"counted\", self.n)\n",
    "        \n",
    "c = count()\n",
    "c.cnt()\n",
    "c.cnt()"
   ]
  },
  {
   "cell_type": "markdown",
   "id": "88c6af06",
   "metadata": {},
   "source": [
    "Constructor & Destructor"
   ]
  },
  {
   "cell_type": "code",
   "execution_count": null,
   "id": "6da48ac3",
   "metadata": {},
   "outputs": [],
   "source": [
    "1. it doesnt need to be called explicity, gets called itself at the time you create an object in the class\n",
    "2. it is used for taking some parameters/attributes at the time of making an object"
   ]
  },
  {
   "cell_type": "code",
   "execution_count": 15,
   "id": "ff69db05",
   "metadata": {},
   "outputs": [
    {
     "name": "stdout",
     "output_type": "stream",
     "text": [
      "Constructed\n",
      "Destructed\n",
      "black\n",
      "sedan\n"
     ]
    }
   ],
   "source": [
    "class const_dest:\n",
    "    x = 0\n",
    "    \n",
    "    def __init__(self, c, t):\n",
    "        self.color = c\n",
    "        self.type = t\n",
    "        print(\"Constructed\")\n",
    "        \n",
    "    def __del__(self):\n",
    "        print(\"Destructed\")\n",
    "        \n",
    "cd = const_dest(\"black\", \"sedan\")\n",
    "print(cd.color)\n",
    "print(cd.type)"
   ]
  },
  {
   "cell_type": "code",
   "execution_count": 12,
   "id": "92a56b78",
   "metadata": {},
   "outputs": [
    {
     "name": "stdout",
     "output_type": "stream",
     "text": [
      "This is a behaviour of car class\n",
      "BMW audi Mercedes\n"
     ]
    }
   ],
   "source": [
    "class car:\n",
    "    a = 'BMW'\n",
    "    b = 'Bentley'\n",
    "    c = 'Mercedes'\n",
    "    # a,b,c are the attributes\n",
    "    def driving(self):\n",
    "        print(\"This is a behaviour of car class\")\n",
    "       \n",
    "c = car()\n",
    "c.driving()\n",
    "c.b = 'audi'\n",
    "print(c.a, c.b, c.c)"
   ]
  },
  {
   "cell_type": "code",
   "execution_count": 13,
   "id": "1ae38fad",
   "metadata": {},
   "outputs": [],
   "source": [
    "# difference betweeen function & OOPS"
   ]
  },
  {
   "cell_type": "code",
   "execution_count": 14,
   "id": "87d9e2e7",
   "metadata": {},
   "outputs": [
    {
     "name": "stdout",
     "output_type": "stream",
     "text": [
      "Hi Uzair\n"
     ]
    }
   ],
   "source": [
    "def name(name):\n",
    "    print(\"Hi\", name)\n",
    "    \n",
    "n = name(\"Uzair\")"
   ]
  },
  {
   "cell_type": "code",
   "execution_count": 10,
   "id": "e2da5573",
   "metadata": {},
   "outputs": [
    {
     "name": "stdout",
     "output_type": "stream",
     "text": [
      "Hi Uzair\n"
     ]
    }
   ],
   "source": [
    "class name:\n",
    "    name = \"\"\n",
    "    def __init__(self, z):\n",
    "        self.name = z\n",
    "        print(\"Hi\", z)\n",
    "n = name(\"Uzair\")"
   ]
  },
  {
   "cell_type": "code",
   "execution_count": 20,
   "id": "3791334d",
   "metadata": {},
   "outputs": [
    {
     "data": {
      "text/plain": [
       "13"
      ]
     },
     "execution_count": 20,
     "metadata": {},
     "output_type": "execute_result"
    }
   ],
   "source": [
    "class calculator:\n",
    "    def __init__(self, a, b):\n",
    "        self.a = a\n",
    "        self.b = b\n",
    "    def add(self):\n",
    "        return self.a + self.b\n",
    "    def multiply(self):\n",
    "        return self.a * self.b\n",
    "    \n",
    "obj = calculator(5, 8)\n",
    "obj.add()"
   ]
  },
  {
   "cell_type": "code",
   "execution_count": null,
   "id": "100b71d6",
   "metadata": {},
   "outputs": [],
   "source": [
    "1. Inheritance - using the properties of one class in another\n",
    "2. encapsulation - for data security\n",
    "3. polymorphiosm - a function in different forms\n",
    "4. abstraction - hiding the information"
   ]
  },
  {
   "cell_type": "markdown",
   "id": "5d9cd51e",
   "metadata": {},
   "source": [
    "# Inheritance"
   ]
  },
  {
   "cell_type": "code",
   "execution_count": 24,
   "id": "f9712497",
   "metadata": {},
   "outputs": [
    {
     "name": "stdout",
     "output_type": "stream",
     "text": [
      "Hi Uzair\n",
      "Hi Hassaan\n",
      "Hassaan scores\n"
     ]
    }
   ],
   "source": [
    "class name:\n",
    "    def __init__(self, z):\n",
    "        self.name = z\n",
    "        print(\"Hi\", z)\n",
    "        \n",
    "class football(name):\n",
    "    def pts(self):\n",
    "        print(self.name,\"scores\")\n",
    "\n",
    "n = name(\"Uzair\")\n",
    "f = football(\"Hassaan\")\n",
    "f.pts()"
   ]
  },
  {
   "cell_type": "code",
   "execution_count": null,
   "id": "4bbc6943",
   "metadata": {},
   "outputs": [],
   "source": [
    "1. Single level Inheritance\n",
    "2. Multi-level Inheritance\n",
    "3. Multiple Inheritance\n",
    "4. Hierarchichal inheritance\n",
    "5. hybrid inheritance"
   ]
  },
  {
   "cell_type": "markdown",
   "id": "a8870e59",
   "metadata": {},
   "source": [
    "Single Inheritance - 1 child class inherits properties from 1 parent class"
   ]
  },
  {
   "cell_type": "code",
   "execution_count": 25,
   "id": "24d640f3",
   "metadata": {},
   "outputs": [
    {
     "name": "stdout",
     "output_type": "stream",
     "text": [
      "Feature1\n"
     ]
    }
   ],
   "source": [
    "class A:\n",
    "    def feature1(self):\n",
    "        print(\"Feature1\")\n",
    "    def feature2(self):\n",
    "        print(\"Feature2\")\n",
    "        \n",
    "class B(A):\n",
    "    def feature3(self):\n",
    "        print(\"Feature3\")\n",
    "    def feature4(self):\n",
    "        print(\"Feature4\")\n",
    "\n",
    "b = B()\n",
    "b.feature1()"
   ]
  },
  {
   "cell_type": "markdown",
   "id": "9a77a0cd",
   "metadata": {},
   "source": [
    "Multi-level inheritance "
   ]
  },
  {
   "cell_type": "code",
   "execution_count": 27,
   "id": "02d2b076",
   "metadata": {},
   "outputs": [
    {
     "name": "stdout",
     "output_type": "stream",
     "text": [
      "Feature2\n"
     ]
    }
   ],
   "source": [
    "class A:\n",
    "    def feature1(self):\n",
    "        print(\"Feature1\")\n",
    "    def feature2(self):\n",
    "        print(\"Feature2\")\n",
    "        \n",
    "class B(A):\n",
    "    def feature3(self):\n",
    "        print(\"Feature3\")\n",
    "    def feature4(self):\n",
    "        print(\"Feature4\")\n",
    "        \n",
    "class C(B):\n",
    "    def feature5(self):\n",
    "        print(\"Feature5\")\n",
    "    def feature6(self):\n",
    "        print(\"Feature6\")\n",
    "        \n",
    "c = C()\n",
    "c.feature2()"
   ]
  },
  {
   "cell_type": "code",
   "execution_count": 28,
   "id": "fdaaa644",
   "metadata": {},
   "outputs": [
    {
     "ename": "AttributeError",
     "evalue": "'B' object has no attribute 'feature6'",
     "output_type": "error",
     "traceback": [
      "\u001b[1;31m---------------------------------------------------------------------------\u001b[0m",
      "\u001b[1;31mAttributeError\u001b[0m                            Traceback (most recent call last)",
      "Cell \u001b[1;32mIn[28], line 2\u001b[0m\n\u001b[0;32m      1\u001b[0m b \u001b[38;5;241m=\u001b[39m B()\n\u001b[1;32m----> 2\u001b[0m b\u001b[38;5;241m.\u001b[39mfeature6()\n",
      "\u001b[1;31mAttributeError\u001b[0m: 'B' object has no attribute 'feature6'"
     ]
    }
   ],
   "source": [
    "b = B()\n",
    "b.feature6()"
   ]
  },
  {
   "cell_type": "markdown",
   "id": "3998c40a",
   "metadata": {},
   "source": [
    "Multiple inheritance - a child class inhetrits properties from multiple parent classes"
   ]
  },
  {
   "cell_type": "code",
   "execution_count": 29,
   "id": "ebb7d256",
   "metadata": {},
   "outputs": [
    {
     "name": "stdout",
     "output_type": "stream",
     "text": [
      "Feature2\n"
     ]
    }
   ],
   "source": [
    "class A:\n",
    "    def feature1(self):\n",
    "        print(\"Feature1\")\n",
    "    def feature2(self):\n",
    "        print(\"Feature2\")\n",
    "        \n",
    "class B:\n",
    "    def feature3(self):\n",
    "        print(\"Feature3\")\n",
    "    def feature4(self):\n",
    "        print(\"Feature4\")\n",
    "        \n",
    "class C(A,B):\n",
    "    def feature5(self):\n",
    "        print(\"Feature5\")\n",
    "    def feature6(self):\n",
    "        print(\"Feature6\")\n",
    "        \n",
    "c = C()\n",
    "c.feature2()"
   ]
  },
  {
   "cell_type": "code",
   "execution_count": 30,
   "id": "655a7927",
   "metadata": {},
   "outputs": [
    {
     "ename": "AttributeError",
     "evalue": "'B' object has no attribute 'feature2'",
     "output_type": "error",
     "traceback": [
      "\u001b[1;31m---------------------------------------------------------------------------\u001b[0m",
      "\u001b[1;31mAttributeError\u001b[0m                            Traceback (most recent call last)",
      "Cell \u001b[1;32mIn[30], line 2\u001b[0m\n\u001b[0;32m      1\u001b[0m b \u001b[38;5;241m=\u001b[39m B()\n\u001b[1;32m----> 2\u001b[0m b\u001b[38;5;241m.\u001b[39mfeature2()\n",
      "\u001b[1;31mAttributeError\u001b[0m: 'B' object has no attribute 'feature2'"
     ]
    }
   ],
   "source": [
    "b = B()\n",
    "b.feature2()"
   ]
  },
  {
   "cell_type": "markdown",
   "id": "5fad9779",
   "metadata": {},
   "source": [
    "Hierarchichal inheritance - multiple child classes inherits properties from one single parent class"
   ]
  },
  {
   "cell_type": "code",
   "execution_count": 31,
   "id": "b1e084ec",
   "metadata": {},
   "outputs": [
    {
     "name": "stdout",
     "output_type": "stream",
     "text": [
      "Feature2\n"
     ]
    }
   ],
   "source": [
    "class A:\n",
    "    def feature1(self):\n",
    "        print(\"Feature1\")\n",
    "    def feature2(self):\n",
    "        print(\"Feature2\")\n",
    "        \n",
    "class B(A):\n",
    "    def feature3(self):\n",
    "        print(\"Feature3\")\n",
    "    def feature4(self):\n",
    "        print(\"Feature4\")\n",
    "        \n",
    "class C(A):\n",
    "    def feature5(self):\n",
    "        print(\"Feature5\")\n",
    "    def feature6(self):\n",
    "        print(\"Feature6\")\n",
    "        \n",
    "c = C()\n",
    "c.feature2()"
   ]
  },
  {
   "cell_type": "markdown",
   "id": "2bd596dd",
   "metadata": {},
   "source": [
    "# Polymorphism"
   ]
  },
  {
   "cell_type": "code",
   "execution_count": 17,
   "id": "7006f647",
   "metadata": {},
   "outputs": [],
   "source": [
    "# poly = many, morphism = different forms\n",
    "the ability to take different forms\n",
    "multiple functions can have same name but different functionalities"
   ]
  },
  {
   "cell_type": "code",
   "execution_count": 18,
   "id": "e79f08b6",
   "metadata": {},
   "outputs": [
    {
     "name": "stdout",
     "output_type": "stream",
     "text": [
      "This is function A2\n"
     ]
    }
   ],
   "source": [
    "class A:\n",
    "    def fun_A1(self):\n",
    "        print(\"This is function A1\")\n",
    "        \n",
    "    def fun_A2(self):\n",
    "        print(\"This is function A2\")\n",
    "        \n",
    "class B(A):\n",
    "    def fun_B1(self):\n",
    "        print(\"This is function B1\")\n",
    "        \n",
    "    def fun_A2(self):\n",
    "        print(\"This is function A2 of class B, Example of polymorphism\")\n",
    "        \n",
    "a = A()\n",
    "a.fun_A2()"
   ]
  },
  {
   "cell_type": "code",
   "execution_count": 19,
   "id": "f34015cb",
   "metadata": {},
   "outputs": [
    {
     "name": "stdout",
     "output_type": "stream",
     "text": [
      "This is function A2 of class B, Example of polymorphism\n"
     ]
    }
   ],
   "source": [
    "b = B()\n",
    "b.fun_A2()"
   ]
  },
  {
   "cell_type": "markdown",
   "id": "19e3f53f",
   "metadata": {},
   "source": [
    "# Abstraction"
   ]
  },
  {
   "cell_type": "code",
   "execution_count": null,
   "id": "bb2d27c5",
   "metadata": {},
   "outputs": [],
   "source": [
    "Also called data hiding\n",
    "double underscore is used bnefore the variable or function name to hide the data, only the owner can see the data"
   ]
  },
  {
   "cell_type": "code",
   "execution_count": 30,
   "id": "116673c1",
   "metadata": {},
   "outputs": [
    {
     "name": "stdout",
     "output_type": "stream",
     "text": [
      "apple\n",
      "1\n",
      "['B2', '__class__', '__delattr__', '__dict__', '__dir__', '__doc__', '__eq__', '__format__', '__ge__', '__getattribute__', '__getstate__', '__gt__', '__hash__', '__init__', '__init_subclass__', '__le__', '__lt__', '__module__', '__ne__', '__new__', '__reduce__', '__reduce_ex__', '__repr__', '__setattr__', '__sizeof__', '__str__', '__subclasshook__', '__weakref__', '_simple__A1', '_simple__value1', 'value2']\n"
     ]
    }
   ],
   "source": [
    "class simple:\n",
    "    def __init__(self):\n",
    "        self.__value1 = 1\n",
    "        self.value2 = 2\n",
    "        \n",
    "    def __A1(self):\n",
    "        print(\"apple\")\n",
    "        \n",
    "    def B2(self):\n",
    "        print(\"ball\")\n",
    "        \n",
    "s = simple()\n",
    "s._simple__A1()\n",
    "\n",
    "print(s._simple__value1)\n",
    "print(dir(s))              # dir(directory) returns the list of all methods in the input w.r.t. the data type"
   ]
  },
  {
   "cell_type": "code",
   "execution_count": 33,
   "id": "c6524387",
   "metadata": {},
   "outputs": [
    {
     "name": "stdout",
     "output_type": "stream",
     "text": [
      "{'name': 'Uzair', 'age': 22, 'version': 1}\n",
      "Help on class Person in module __main__:\n",
      "\n",
      "class Person(builtins.object)\n",
      " |  Person(name, age)\n",
      " |  \n",
      " |  Methods defined here:\n",
      " |  \n",
      " |  __init__(self, name, age)\n",
      " |      Initialize self.  See help(type(self)) for accurate signature.\n",
      " |  \n",
      " |  ----------------------------------------------------------------------\n",
      " |  Data descriptors defined here:\n",
      " |  \n",
      " |  __dict__\n",
      " |      dictionary for instance variables (if defined)\n",
      " |  \n",
      " |  __weakref__\n",
      " |      list of weak references to the object (if defined)\n",
      "\n",
      "None\n"
     ]
    }
   ],
   "source": [
    "class Person:\n",
    "    def __init__(self, name, age):\n",
    "        self.name = name\n",
    "        self.age = age\n",
    "        self.version = 1\n",
    "        \n",
    "p = Person(\"Uzair\", 22)\n",
    "print(p.__dict__)               # __dict__ returns the output in a dictionary\n",
    "print(help(Person))             # help() is used to get help documentation of an object including its attributes and methods"
   ]
  },
  {
   "cell_type": "markdown",
   "id": "a7ca76f0",
   "metadata": {},
   "source": [
    "Operator Overloading & Method OPverriding"
   ]
  },
  {
   "cell_type": "code",
   "execution_count": 35,
   "id": "e4cb2e1a",
   "metadata": {},
   "outputs": [
    {
     "name": "stdout",
     "output_type": "stream",
     "text": [
      "3\n",
      "3\n"
     ]
    }
   ],
   "source": [
    "# operator overloding\n",
    "\n",
    "a = 1\n",
    "b = 2\n",
    "print(a + b)\n",
    "print(int.__add__(a, b))"
   ]
  },
  {
   "cell_type": "code",
   "execution_count": 41,
   "id": "c2d16b84",
   "metadata": {},
   "outputs": [
    {
     "name": "stdout",
     "output_type": "stream",
     "text": [
      "12\n",
      "15\n"
     ]
    }
   ],
   "source": [
    "class vegetables:\n",
    "    def __init__(self, carrot, beans):\n",
    "        self.carrot = carrot\n",
    "        self.beans = beans\n",
    "        \n",
    "    def __add__(self, other):                  # overloading\n",
    "        carrot = self.carrot + other.carrot\n",
    "        beans = self.beans + other.beans\n",
    "        return vegetables(carrot, beans)\n",
    "    \n",
    "v1 = vegetables(5, 7)\n",
    "v2 = vegetables(7, 8)\n",
    "v3 = v1 + v2\n",
    "print(v3.carrot)\n",
    "print(v3.beans)"
   ]
  },
  {
   "cell_type": "code",
   "execution_count": 49,
   "id": "f53a431c",
   "metadata": {},
   "outputs": [
    {
     "name": "stdout",
     "output_type": "stream",
     "text": [
      "Hello\n",
      "This is parent method\n",
      "This is child method\n",
      "This is parent method\n"
     ]
    }
   ],
   "source": [
    "# super keyword - it is used when u want to call a method of the parent class which by calling a child class method which is not present in the parent class\n",
    "\n",
    "class Parent:\n",
    "    def parent_method(self):\n",
    "        print(\"This is parent method\")\n",
    "        \n",
    "class Child(Parent):\n",
    "    def parent_method(elf):\n",
    "        print(\"Hello\")\n",
    "        super().parent_method()\n",
    "        \n",
    "    def child_method(self):\n",
    "        print(\"This is child method\")\n",
    "        super().parent_method()\n",
    "        \n",
    "c = Child()\n",
    "c.parent_method()\n",
    "c.child_method()"
   ]
  },
  {
   "cell_type": "code",
   "execution_count": 54,
   "id": "b937d301",
   "metadata": {},
   "outputs": [
    {
     "name": "stdout",
     "output_type": "stream",
     "text": [
      "15\n",
      "78.5\n"
     ]
    }
   ],
   "source": [
    "# method overiding\n",
    "\n",
    "class Shape:\n",
    "    def __init__(self, x, y):\n",
    "        self.x = x\n",
    "        self.y = y\n",
    "        \n",
    "    def area(self):\n",
    "        return self.x * self.y\n",
    "    \n",
    "class Circle(Shape):\n",
    "    def __init__(self, radius):\n",
    "        self.radius = radius\n",
    "        super().__init__(radius, radius)\n",
    "        \n",
    "    def area(self):\n",
    "        return 3.14 * super().area()\n",
    "    \n",
    "s = Shape(3, 5)\n",
    "print(s.area())\n",
    "c = Circle(5)\n",
    "print(c.area())"
   ]
  },
  {
   "cell_type": "code",
   "execution_count": null,
   "id": "ae4d5800",
   "metadata": {},
   "outputs": [],
   "source": [
    "type of variables:\n",
    "    \n",
    "1. Instance Variable - When value of variable varies within a class we use instance variable\n",
    "   its initialized in the constructor(__init__)\n",
    "    \n",
    "2. static variable - if the value of variable is not varied from object to object we define it as static variable\n",
    "\n",
    "3. local variable - these variables are made to meet the temporary requirement of methods. also called method level variables.\n",
    "   defined inside a method and scope is limited to the method only\n",
    "    \n",
    "4. Global variable - variables which are defined outside the class and functions are called global variables. the can be used\n",
    "   anywhere in the program"
   ]
  },
  {
   "cell_type": "code",
   "execution_count": null,
   "id": "af106d95",
   "metadata": {},
   "outputs": [],
   "source": [
    "a = 10                 # global variable\n",
    "\n",
    "class Practice:\n",
    "    my_variable = 0        # static variable or class variable\n",
    "    def __init__(self):\n",
    "        self.first_number = 10      # instance variable\n",
    "        self.second_number = 20\n",
    "        \n",
    "    def fun_A(self):\n",
    "        string = \"This is fun_A variable\"    # local variable"
   ]
  },
  {
   "cell_type": "markdown",
   "id": "a04469c9",
   "metadata": {},
   "source": [
    "Decorators"
   ]
  },
  {
   "cell_type": "code",
   "execution_count": 1,
   "id": "8124bd5b",
   "metadata": {},
   "outputs": [],
   "source": [
    "# decorators are functions which are used to modify other functions"
   ]
  },
  {
   "cell_type": "code",
   "execution_count": 14,
   "id": "e78f1b4b",
   "metadata": {},
   "outputs": [
    {
     "name": "stdout",
     "output_type": "stream",
     "text": [
      "Good Morning\n",
      "Hello world\n",
      "Thank You\n",
      "Good Morning\n",
      "3\n",
      "Thank You\n"
     ]
    }
   ],
   "source": [
    "def greet(fx):\n",
    "    def mfx(*args, **kwargs):           # *args - arguments, returns value in form of a tuple, **kwargs - key word arguments, returns value in form of a dictionary\n",
    "        print(\"Good Morning\")\n",
    "        fx(*args, **kwargs)\n",
    "        print(\"Thank You\")\n",
    "    return mfx\n",
    "\n",
    "@greet\n",
    "def hello():\n",
    "    print(\"Hello world\")\n",
    "\n",
    "@greet\n",
    "def add(a, b):\n",
    "    print(a + b)\n",
    "\n",
    "hello()\n",
    "add(1, 2)"
   ]
  },
  {
   "cell_type": "code",
   "execution_count": 15,
   "id": "89f80781",
   "metadata": {},
   "outputs": [],
   "source": [
    "import time"
   ]
  },
  {
   "cell_type": "code",
   "execution_count": 20,
   "id": "9b98a4d2",
   "metadata": {},
   "outputs": [
    {
     "name": "stdout",
     "output_type": "stream",
     "text": [
      "myfunction took 0.06472969055175781 seconds to execute\n"
     ]
    },
    {
     "ename": "ValueError",
     "evalue": "Exceeds the limit (4300 digits) for integer string conversion; use sys.set_int_max_str_digits() to increase the limit",
     "output_type": "error",
     "traceback": [
      "\u001b[1;31m---------------------------------------------------------------------------\u001b[0m",
      "\u001b[1;31mValueError\u001b[0m                                Traceback (most recent call last)",
      "File \u001b[1;32m~\\anaconda3\\Lib\\site-packages\\IPython\\core\\formatters.py:708\u001b[0m, in \u001b[0;36mPlainTextFormatter.__call__\u001b[1;34m(self, obj)\u001b[0m\n\u001b[0;32m    701\u001b[0m stream \u001b[38;5;241m=\u001b[39m StringIO()\n\u001b[0;32m    702\u001b[0m printer \u001b[38;5;241m=\u001b[39m pretty\u001b[38;5;241m.\u001b[39mRepresentationPrinter(stream, \u001b[38;5;28mself\u001b[39m\u001b[38;5;241m.\u001b[39mverbose,\n\u001b[0;32m    703\u001b[0m     \u001b[38;5;28mself\u001b[39m\u001b[38;5;241m.\u001b[39mmax_width, \u001b[38;5;28mself\u001b[39m\u001b[38;5;241m.\u001b[39mnewline,\n\u001b[0;32m    704\u001b[0m     max_seq_length\u001b[38;5;241m=\u001b[39m\u001b[38;5;28mself\u001b[39m\u001b[38;5;241m.\u001b[39mmax_seq_length,\n\u001b[0;32m    705\u001b[0m     singleton_pprinters\u001b[38;5;241m=\u001b[39m\u001b[38;5;28mself\u001b[39m\u001b[38;5;241m.\u001b[39msingleton_printers,\n\u001b[0;32m    706\u001b[0m     type_pprinters\u001b[38;5;241m=\u001b[39m\u001b[38;5;28mself\u001b[39m\u001b[38;5;241m.\u001b[39mtype_printers,\n\u001b[0;32m    707\u001b[0m     deferred_pprinters\u001b[38;5;241m=\u001b[39m\u001b[38;5;28mself\u001b[39m\u001b[38;5;241m.\u001b[39mdeferred_printers)\n\u001b[1;32m--> 708\u001b[0m printer\u001b[38;5;241m.\u001b[39mpretty(obj)\n\u001b[0;32m    709\u001b[0m printer\u001b[38;5;241m.\u001b[39mflush()\n\u001b[0;32m    710\u001b[0m \u001b[38;5;28;01mreturn\u001b[39;00m stream\u001b[38;5;241m.\u001b[39mgetvalue()\n",
      "File \u001b[1;32m~\\anaconda3\\Lib\\site-packages\\IPython\\lib\\pretty.py:393\u001b[0m, in \u001b[0;36mRepresentationPrinter.pretty\u001b[1;34m(self, obj)\u001b[0m\n\u001b[0;32m    390\u001b[0m \u001b[38;5;28;01mfor\u001b[39;00m \u001b[38;5;28mcls\u001b[39m \u001b[38;5;129;01min\u001b[39;00m _get_mro(obj_class):\n\u001b[0;32m    391\u001b[0m     \u001b[38;5;28;01mif\u001b[39;00m \u001b[38;5;28mcls\u001b[39m \u001b[38;5;129;01min\u001b[39;00m \u001b[38;5;28mself\u001b[39m\u001b[38;5;241m.\u001b[39mtype_pprinters:\n\u001b[0;32m    392\u001b[0m         \u001b[38;5;66;03m# printer registered in self.type_pprinters\u001b[39;00m\n\u001b[1;32m--> 393\u001b[0m         \u001b[38;5;28;01mreturn\u001b[39;00m \u001b[38;5;28mself\u001b[39m\u001b[38;5;241m.\u001b[39mtype_pprinters[\u001b[38;5;28mcls\u001b[39m](obj, \u001b[38;5;28mself\u001b[39m, cycle)\n\u001b[0;32m    394\u001b[0m     \u001b[38;5;28;01melse\u001b[39;00m:\n\u001b[0;32m    395\u001b[0m         \u001b[38;5;66;03m# deferred printer\u001b[39;00m\n\u001b[0;32m    396\u001b[0m         printer \u001b[38;5;241m=\u001b[39m \u001b[38;5;28mself\u001b[39m\u001b[38;5;241m.\u001b[39m_in_deferred_types(\u001b[38;5;28mcls\u001b[39m)\n",
      "File \u001b[1;32m~\\anaconda3\\Lib\\site-packages\\IPython\\lib\\pretty.py:778\u001b[0m, in \u001b[0;36m_repr_pprint\u001b[1;34m(obj, p, cycle)\u001b[0m\n\u001b[0;32m    776\u001b[0m \u001b[38;5;250m\u001b[39m\u001b[38;5;124;03m\"\"\"A pprint that just redirects to the normal repr function.\"\"\"\u001b[39;00m\n\u001b[0;32m    777\u001b[0m \u001b[38;5;66;03m# Find newlines and replace them with p.break_()\u001b[39;00m\n\u001b[1;32m--> 778\u001b[0m output \u001b[38;5;241m=\u001b[39m \u001b[38;5;28mrepr\u001b[39m(obj)\n\u001b[0;32m    779\u001b[0m lines \u001b[38;5;241m=\u001b[39m output\u001b[38;5;241m.\u001b[39msplitlines()\n\u001b[0;32m    780\u001b[0m \u001b[38;5;28;01mwith\u001b[39;00m p\u001b[38;5;241m.\u001b[39mgroup():\n",
      "\u001b[1;31mValueError\u001b[0m: Exceeds the limit (4300 digits) for integer string conversion; use sys.set_int_max_str_digits() to increase the limit"
     ]
    }
   ],
   "source": [
    "def timer(function):\n",
    "    def wrapper(*args, **kwargs):\n",
    "        before = time.time()\n",
    "        value = function(*args, **kwargs)\n",
    "        after = time.time()\n",
    "        fname = function.__name__\n",
    "        print(f\"{fname} took {after - before} seconds to execute\")\n",
    "        return value\n",
    "    return wrapper\n",
    "\n",
    "@timer\n",
    "def myfunction(x):\n",
    "    count = 1\n",
    "    for i in range(1, x):\n",
    "        count *= i\n",
    "    return count\n",
    "\n",
    "myfunction(10000)"
   ]
  },
  {
   "cell_type": "markdown",
   "id": "18f8c8a0",
   "metadata": {},
   "source": [
    "Getters & setters"
   ]
  },
  {
   "cell_type": "code",
   "execution_count": 21,
   "id": "8aae71f8",
   "metadata": {},
   "outputs": [],
   "source": [
    "# a functions return value can be used as an objects property"
   ]
  },
  {
   "cell_type": "code",
   "execution_count": 27,
   "id": "872f6fef",
   "metadata": {},
   "outputs": [
    {
     "name": "stdout",
     "output_type": "stream",
     "text": [
      "67.0\n",
      "Value is 6.7\n"
     ]
    }
   ],
   "source": [
    "class MyClass:\n",
    "    def __init__(self, value):\n",
    "        self.value = value\n",
    "        \n",
    "    def show(self):\n",
    "        print(f\"Value is {self.value}\")\n",
    "    \n",
    "    @property                               # getter\n",
    "    def ten_value(self):\n",
    "        return 10 * self.value\n",
    "    \n",
    "    @ten_value.setter                       \n",
    "    def ten_value(self, new_value):\n",
    "        self.value = new_value/10\n",
    "        \n",
    "c = MyClass(10)\n",
    "c.ten_value = 67\n",
    "print(c.ten_value)\n",
    "c.show()"
   ]
  },
  {
   "cell_type": "markdown",
   "id": "15e10302",
   "metadata": {},
   "source": [
    "Access Modifiers"
   ]
  },
  {
   "cell_type": "code",
   "execution_count": 28,
   "id": "6e327683",
   "metadata": {},
   "outputs": [],
   "source": [
    "# public access modifiers\n",
    "# private access modifiers\n",
    "# protected access modifiers"
   ]
  },
  {
   "cell_type": "code",
   "execution_count": 31,
   "id": "99e9ccff",
   "metadata": {},
   "outputs": [
    {
     "name": "stdout",
     "output_type": "stream",
     "text": [
      "Uzair\n",
      "22\n",
      "Engineer\n"
     ]
    }
   ],
   "source": [
    "class Employee:\n",
    "    def __init__(self):\n",
    "        self.name = \"Uzair\"               # public\n",
    "        self.__age = 22                   # private\n",
    "        self._occ = \"Engineer\"            # protected\n",
    "        \n",
    "a = Employee()\n",
    "print(a.name)\n",
    "print(a._Employee__age)                # \"Data Mangling\" - prevents accidental overwriting\n",
    "print(a._occ)"
   ]
  },
  {
   "cell_type": "markdown",
   "id": "c1e91916",
   "metadata": {},
   "source": [
    "Static Method"
   ]
  },
  {
   "cell_type": "code",
   "execution_count": 32,
   "id": "e84aa6ba",
   "metadata": {},
   "outputs": [],
   "source": [
    "# static method doesnt belong to ant instance or class"
   ]
  },
  {
   "cell_type": "code",
   "execution_count": 37,
   "id": "cbf71da5",
   "metadata": {},
   "outputs": [
    {
     "name": "stdout",
     "output_type": "stream",
     "text": [
      "5\n",
      "11\n"
     ]
    }
   ],
   "source": [
    "class Math:\n",
    "    def __init__(self, num):\n",
    "        self.num = num\n",
    "        \n",
    "    def addtonum(self, n):\n",
    "        self.num = self.num + n\n",
    "        \n",
    "    @staticmethod\n",
    "    def add(a, b):              # self keyword not required in static method\n",
    "        return a + b\n",
    "        \n",
    "a = Math(5)\n",
    "print(a.num)\n",
    "a.addtonum(6)\n",
    "print(a.num)"
   ]
  },
  {
   "cell_type": "markdown",
   "id": "49d5ad64",
   "metadata": {},
   "source": [
    "Class Method"
   ]
  },
  {
   "cell_type": "code",
   "execution_count": 44,
   "id": "091e33a2",
   "metadata": {},
   "outputs": [
    {
     "name": "stdout",
     "output_type": "stream",
     "text": [
      "Name is Uzair and company is Apple\n",
      "Name is Uzair and company is Tesla\n",
      "Tesla\n"
     ]
    }
   ],
   "source": [
    "class Employee:\n",
    "    company = \"Apple\"\n",
    "    def show(self):\n",
    "        print(f\"Name is {self.name} and company is {self.company}\")\n",
    "    \n",
    "    @classmethod                        # classmethod decorator changes the value of an attribute for the entire class\n",
    "    def changeCompany(cls, newCompany):\n",
    "        cls.company = newCompany\n",
    "        \n",
    "e1 = Employee()\n",
    "e1.name = \"Uzair\"\n",
    "e1.show()\n",
    "e1.changeCompany(\"Tesla\")\n",
    "e1.show()\n",
    "print(Employee.company)"
   ]
  },
  {
   "cell_type": "code",
   "execution_count": 51,
   "id": "4cd9fc7c",
   "metadata": {},
   "outputs": [
    {
     "name": "stdout",
     "output_type": "stream",
     "text": [
      "Uzair\n",
      "15000\n",
      "Uzair\n",
      "15000\n"
     ]
    }
   ],
   "source": [
    "# class method as an alternate constructor\n",
    "\n",
    "class Employee:\n",
    "    def __init__(self, name, salary):\n",
    "        self.name = name\n",
    "        self.salary = salary\n",
    "    \n",
    "    @classmethod\n",
    "    def fromStr(cls, string):\n",
    "        return cls(string.split(\"-\")[0], string.split(\"-\")[1])\n",
    "        \n",
    "e1 = Employee(\"Uzair\", 15000)\n",
    "print(e1.name)\n",
    "print(e1.salary)\n",
    "\n",
    "string = \"Uzair-15000\"\n",
    "e2 = Employee.fromStr(string)\n",
    "# e2 = Employee()\n",
    "print(e2.name)\n",
    "print(e2.salary)"
   ]
  },
  {
   "cell_type": "markdown",
   "id": "119aa671",
   "metadata": {},
   "source": [
    "Magic Method (Dunder Method)"
   ]
  },
  {
   "cell_type": "code",
   "execution_count": 52,
   "id": "37c65b2e",
   "metadata": {},
   "outputs": [],
   "source": [
    "# they have a special purpose / function, they start and end with double underscore"
   ]
  },
  {
   "cell_type": "code",
   "execution_count": 59,
   "id": "2780b629",
   "metadata": {},
   "outputs": [
    {
     "name": "stdout",
     "output_type": "stream",
     "text": [
      "5\n",
      "The name of the employee is Uzair str\n",
      "The name of the employee is Uzair repr\n"
     ]
    }
   ],
   "source": [
    "class Employee:\n",
    "    def __init__(self, name):\n",
    "        self.name = name\n",
    "        \n",
    "    def __len__(self):\n",
    "        i = 0\n",
    "        for c in self.name:\n",
    "            i += 1\n",
    "        return i\n",
    "    \n",
    "    def __str__(self):\n",
    "        return f\"The name of the employee is {self.name} str\"\n",
    "    \n",
    "    def __repr__(self):\n",
    "        return f\"The name of the employee is {self.name} repr\"\n",
    "        \n",
    "e = Employee(\"Uzair\")\n",
    "print(len(e))\n",
    "# print(e)\n",
    "print(str(e))\n",
    "print(repr(e))"
   ]
  },
  {
   "cell_type": "code",
   "execution_count": null,
   "id": "c5708dc0",
   "metadata": {},
   "outputs": [],
   "source": []
  }
 ],
 "metadata": {
  "kernelspec": {
   "display_name": "Python 3 (ipykernel)",
   "language": "python",
   "name": "python3"
  },
  "language_info": {
   "codemirror_mode": {
    "name": "ipython",
    "version": 3
   },
   "file_extension": ".py",
   "mimetype": "text/x-python",
   "name": "python",
   "nbconvert_exporter": "python",
   "pygments_lexer": "ipython3",
   "version": "3.11.4"
  }
 },
 "nbformat": 4,
 "nbformat_minor": 5
}
