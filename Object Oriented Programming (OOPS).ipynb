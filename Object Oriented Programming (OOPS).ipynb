{
 "cells": [
  {
   "cell_type": "code",
   "execution_count": null,
   "id": "6809f928",
   "metadata": {},
   "outputs": [],
   "source": [
    "1. Object oriented programming consists of classes and objects\n",
    "2. OOPS is used to make the program cleaner and less complex\n",
    "3. we can have data security by using encapsulation."
   ]
  },
  {
   "cell_type": "code",
   "execution_count": null,
   "id": "390a2d91",
   "metadata": {},
   "outputs": [],
   "source": [
    "class - it is the blueprint for objects, collection of objects\n",
    "object - instance, it can be created as many times as required\n",
    "attributes - characteristics associated to the type (variables)\n",
    "methods - functions associated to the type"
   ]
  },
  {
   "cell_type": "code",
   "execution_count": null,
   "id": "98473562",
   "metadata": {},
   "outputs": [],
   "source": [
    "class name:\n",
    "    statements, methods & attributes\n",
    "    \n",
    "call the class"
   ]
  },
  {
   "cell_type": "code",
   "execution_count": 1,
   "id": "2e15a5e8",
   "metadata": {},
   "outputs": [
    {
     "name": "stdout",
     "output_type": "stream",
     "text": [
      "<__main__.car object at 0x000001EC05DD7C50>\n"
     ]
    }
   ],
   "source": [
    "# 1.\n",
    "class car:\n",
    "    pass\n",
    "\n",
    "c = car()\n",
    "print(c)"
   ]
  },
  {
   "cell_type": "code",
   "execution_count": 2,
   "id": "cb33a4eb",
   "metadata": {},
   "outputs": [
    {
     "name": "stdout",
     "output_type": "stream",
     "text": [
      "black\n"
     ]
    }
   ],
   "source": [
    "#2. using an attribute\n",
    "class car:\n",
    "    color = 'black'\n",
    "    \n",
    "c = car()\n",
    "print(c.color)"
   ]
  },
  {
   "cell_type": "code",
   "execution_count": 3,
   "id": "53f9f3d6",
   "metadata": {},
   "outputs": [
    {
     "name": "stdout",
     "output_type": "stream",
     "text": [
      "BLACK\n"
     ]
    }
   ],
   "source": [
    "#3. method\n",
    "class car:\n",
    "    color = \"black\"\n",
    "    type = \"suv\"\n",
    "    \n",
    "c = car()\n",
    "print(c.color.upper())"
   ]
  },
  {
   "cell_type": "code",
   "execution_count": 6,
   "id": "d4322aca",
   "metadata": {},
   "outputs": [
    {
     "name": "stdout",
     "output_type": "stream",
     "text": [
      "counted 1\n",
      "counted 2\n"
     ]
    }
   ],
   "source": [
    "class count:\n",
    "    n = 0\n",
    "    \n",
    "    def cnt(self):\n",
    "        self.n = self.n + 1\n",
    "        print(\"counted\", self.n)\n",
    "        \n",
    "c = count()\n",
    "c.cnt()\n",
    "c.cnt()"
   ]
  },
  {
   "cell_type": "markdown",
   "id": "88c6af06",
   "metadata": {},
   "source": [
    "Constructor & Destructor"
   ]
  },
  {
   "cell_type": "code",
   "execution_count": null,
   "id": "6da48ac3",
   "metadata": {},
   "outputs": [],
   "source": [
    "1. it doesnt need to be called explicity, gets called itself at the time you create an object in the class\n",
    "2. it is used for taking some parameters/attributes at the time of making an object"
   ]
  },
  {
   "cell_type": "code",
   "execution_count": 10,
   "id": "ff69db05",
   "metadata": {},
   "outputs": [
    {
     "name": "stdout",
     "output_type": "stream",
     "text": [
      "Constructed\n",
      "Destructor\n",
      "black\n",
      "Sedan\n"
     ]
    }
   ],
   "source": [
    "class const_dest:\n",
    "    x = 0\n",
    "    \n",
    "    def __init__(self, c, type):\n",
    "        self.color = c\n",
    "        self.type = type\n",
    "        print(\"Constructed\")\n",
    "        \n",
    "    def __del__(self):\n",
    "        print(\"Destructor\")\n",
    "        \n",
    "cd = const_dest(\"black\", \"Sedan\")\n",
    "print(cd.color)\n",
    "print(cd.type)"
   ]
  },
  {
   "cell_type": "code",
   "execution_count": 12,
   "id": "92a56b78",
   "metadata": {},
   "outputs": [
    {
     "name": "stdout",
     "output_type": "stream",
     "text": [
      "This is a behaviour of car class\n",
      "BMW audi Mercedes\n"
     ]
    }
   ],
   "source": [
    "class car:\n",
    "    a = 'BMW'\n",
    "    b = 'Bentley'\n",
    "    c = 'Mercedes'\n",
    "    # a,b,c are the attributes\n",
    "    def driving(self):\n",
    "        print(\"This is a behaviour of car class\")\n",
    "       \n",
    "c = car()\n",
    "c.driving()\n",
    "c.b = 'audi'\n",
    "print(c.a, c.b, c.c)"
   ]
  },
  {
   "cell_type": "code",
   "execution_count": 13,
   "id": "1ae38fad",
   "metadata": {},
   "outputs": [],
   "source": [
    "# difference betweeen function & OOPS"
   ]
  },
  {
   "cell_type": "code",
   "execution_count": 14,
   "id": "87d9e2e7",
   "metadata": {},
   "outputs": [
    {
     "name": "stdout",
     "output_type": "stream",
     "text": [
      "Hi Uzair\n"
     ]
    }
   ],
   "source": [
    "def name(name):\n",
    "    print(\"Hi\", name)\n",
    "    \n",
    "n = name(\"Uzair\")"
   ]
  },
  {
   "cell_type": "code",
   "execution_count": 15,
   "id": "e2da5573",
   "metadata": {},
   "outputs": [
    {
     "name": "stdout",
     "output_type": "stream",
     "text": [
      "Hi Uzair\n"
     ]
    }
   ],
   "source": [
    "class name:\n",
    "    name = \"\"\n",
    "    def __init__(self, z):\n",
    "        self.name = z\n",
    "        print(\"Hi\", z)\n",
    "n = name(\"Uzair\")"
   ]
  },
  {
   "cell_type": "code",
   "execution_count": 20,
   "id": "3791334d",
   "metadata": {},
   "outputs": [
    {
     "data": {
      "text/plain": [
       "13"
      ]
     },
     "execution_count": 20,
     "metadata": {},
     "output_type": "execute_result"
    }
   ],
   "source": [
    "class calculator:\n",
    "    def __init__(self, a, b):\n",
    "        self.a = a\n",
    "        self.b = b\n",
    "    def add(self):\n",
    "        return self.a + self.b\n",
    "    def multiply(self):\n",
    "        return self.a * self.b\n",
    "    \n",
    "obj = calculator(5, 8)\n",
    "obj.add()"
   ]
  },
  {
   "cell_type": "code",
   "execution_count": null,
   "id": "100b71d6",
   "metadata": {},
   "outputs": [],
   "source": [
    "1. Inheritance - using the properties of one class in another\n",
    "2. encapsulation - for data security\n",
    "3. polymorphiosm - a function in different forms\n",
    "4. abstraction - hiding the information"
   ]
  },
  {
   "cell_type": "markdown",
   "id": "5d9cd51e",
   "metadata": {},
   "source": [
    "# Inheritance"
   ]
  },
  {
   "cell_type": "code",
   "execution_count": 24,
   "id": "f9712497",
   "metadata": {},
   "outputs": [
    {
     "name": "stdout",
     "output_type": "stream",
     "text": [
      "Hi Uzair\n",
      "Hi Hassaan\n",
      "Hassaan scores\n"
     ]
    }
   ],
   "source": [
    "class name:\n",
    "    def __init__(self, z):\n",
    "        self.name = z\n",
    "        print(\"Hi\", z)\n",
    "        \n",
    "class football(name):\n",
    "    def pts(self):\n",
    "        print(self.name,\"scores\")\n",
    "\n",
    "n = name(\"Uzair\")\n",
    "f = football(\"Hassaan\")\n",
    "f.pts()"
   ]
  },
  {
   "cell_type": "code",
   "execution_count": null,
   "id": "4bbc6943",
   "metadata": {},
   "outputs": [],
   "source": [
    "1. Single level Inheritance\n",
    "2. Multi-level Inheritance\n",
    "3. Multiple Inheritance\n",
    "4. Hierarchichal inheritance\n",
    "5. hybrid inheritance"
   ]
  },
  {
   "cell_type": "markdown",
   "id": "a8870e59",
   "metadata": {},
   "source": [
    "Single Inheritance - 1 child class inherits properties from 1 parent class"
   ]
  },
  {
   "cell_type": "code",
   "execution_count": 25,
   "id": "24d640f3",
   "metadata": {},
   "outputs": [
    {
     "name": "stdout",
     "output_type": "stream",
     "text": [
      "Feature1\n"
     ]
    }
   ],
   "source": [
    "class A:\n",
    "    def feature1(self):\n",
    "        print(\"Feature1\")\n",
    "    def feature2(self):\n",
    "        print(\"Feature2\")\n",
    "        \n",
    "class B(A):\n",
    "    def feature3(self):\n",
    "        print(\"Feature3\")\n",
    "    def feature4(self):\n",
    "        print(\"Feature4\")\n",
    "\n",
    "b = B()\n",
    "b.feature1()"
   ]
  },
  {
   "cell_type": "markdown",
   "id": "9a77a0cd",
   "metadata": {},
   "source": [
    "Multi-level inheritance "
   ]
  },
  {
   "cell_type": "code",
   "execution_count": 27,
   "id": "02d2b076",
   "metadata": {},
   "outputs": [
    {
     "name": "stdout",
     "output_type": "stream",
     "text": [
      "Feature2\n"
     ]
    }
   ],
   "source": [
    "class A:\n",
    "    def feature1(self):\n",
    "        print(\"Feature1\")\n",
    "    def feature2(self):\n",
    "        print(\"Feature2\")\n",
    "        \n",
    "class B(A):\n",
    "    def feature3(self):\n",
    "        print(\"Feature3\")\n",
    "    def feature4(self):\n",
    "        print(\"Feature4\")\n",
    "        \n",
    "class C(B):\n",
    "    def feature5(self):\n",
    "        print(\"Feature5\")\n",
    "    def feature6(self):\n",
    "        print(\"Feature6\")\n",
    "        \n",
    "c = C()\n",
    "c.feature2()"
   ]
  },
  {
   "cell_type": "code",
   "execution_count": 28,
   "id": "fdaaa644",
   "metadata": {},
   "outputs": [
    {
     "ename": "AttributeError",
     "evalue": "'B' object has no attribute 'feature6'",
     "output_type": "error",
     "traceback": [
      "\u001b[1;31m---------------------------------------------------------------------------\u001b[0m",
      "\u001b[1;31mAttributeError\u001b[0m                            Traceback (most recent call last)",
      "Cell \u001b[1;32mIn[28], line 2\u001b[0m\n\u001b[0;32m      1\u001b[0m b \u001b[38;5;241m=\u001b[39m B()\n\u001b[1;32m----> 2\u001b[0m b\u001b[38;5;241m.\u001b[39mfeature6()\n",
      "\u001b[1;31mAttributeError\u001b[0m: 'B' object has no attribute 'feature6'"
     ]
    }
   ],
   "source": [
    "b = B()\n",
    "b.feature6()"
   ]
  },
  {
   "cell_type": "markdown",
   "id": "3998c40a",
   "metadata": {},
   "source": [
    "Multiple inheritance - a child class inhetrits properties from multiple parent classes"
   ]
  },
  {
   "cell_type": "code",
   "execution_count": 29,
   "id": "ebb7d256",
   "metadata": {},
   "outputs": [
    {
     "name": "stdout",
     "output_type": "stream",
     "text": [
      "Feature2\n"
     ]
    }
   ],
   "source": [
    "class A:\n",
    "    def feature1(self):\n",
    "        print(\"Feature1\")\n",
    "    def feature2(self):\n",
    "        print(\"Feature2\")\n",
    "        \n",
    "class B:\n",
    "    def feature3(self):\n",
    "        print(\"Feature3\")\n",
    "    def feature4(self):\n",
    "        print(\"Feature4\")\n",
    "        \n",
    "class C(A,B):\n",
    "    def feature5(self):\n",
    "        print(\"Feature5\")\n",
    "    def feature6(self):\n",
    "        print(\"Feature6\")\n",
    "        \n",
    "c = C()\n",
    "c.feature2()"
   ]
  },
  {
   "cell_type": "code",
   "execution_count": 30,
   "id": "655a7927",
   "metadata": {},
   "outputs": [
    {
     "ename": "AttributeError",
     "evalue": "'B' object has no attribute 'feature2'",
     "output_type": "error",
     "traceback": [
      "\u001b[1;31m---------------------------------------------------------------------------\u001b[0m",
      "\u001b[1;31mAttributeError\u001b[0m                            Traceback (most recent call last)",
      "Cell \u001b[1;32mIn[30], line 2\u001b[0m\n\u001b[0;32m      1\u001b[0m b \u001b[38;5;241m=\u001b[39m B()\n\u001b[1;32m----> 2\u001b[0m b\u001b[38;5;241m.\u001b[39mfeature2()\n",
      "\u001b[1;31mAttributeError\u001b[0m: 'B' object has no attribute 'feature2'"
     ]
    }
   ],
   "source": [
    "b = B()\n",
    "b.feature2()"
   ]
  },
  {
   "cell_type": "markdown",
   "id": "5fad9779",
   "metadata": {},
   "source": [
    "Hierarchichal inheritance - multiple child classes inherits properties from one single parent class"
   ]
  },
  {
   "cell_type": "code",
   "execution_count": 31,
   "id": "b1e084ec",
   "metadata": {},
   "outputs": [
    {
     "name": "stdout",
     "output_type": "stream",
     "text": [
      "Feature2\n"
     ]
    }
   ],
   "source": [
    "class A:\n",
    "    def feature1(self):\n",
    "        print(\"Feature1\")\n",
    "    def feature2(self):\n",
    "        print(\"Feature2\")\n",
    "        \n",
    "class B(A):\n",
    "    def feature3(self):\n",
    "        print(\"Feature3\")\n",
    "    def feature4(self):\n",
    "        print(\"Feature4\")\n",
    "        \n",
    "class C(A):\n",
    "    def feature5(self):\n",
    "        print(\"Feature5\")\n",
    "    def feature6(self):\n",
    "        print(\"Feature6\")\n",
    "        \n",
    "c = C()\n",
    "c.feature2()"
   ]
  },
  {
   "cell_type": "code",
   "execution_count": null,
   "id": "fdc353c9",
   "metadata": {},
   "outputs": [],
   "source": []
  }
 ],
 "metadata": {
  "kernelspec": {
   "display_name": "Python 3 (ipykernel)",
   "language": "python",
   "name": "python3"
  },
  "language_info": {
   "codemirror_mode": {
    "name": "ipython",
    "version": 3
   },
   "file_extension": ".py",
   "mimetype": "text/x-python",
   "name": "python",
   "nbconvert_exporter": "python",
   "pygments_lexer": "ipython3",
   "version": "3.11.4"
  }
 },
 "nbformat": 4,
 "nbformat_minor": 5
}
