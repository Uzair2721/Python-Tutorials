{
 "cells": [
  {
   "cell_type": "code",
   "execution_count": 22,
   "id": "215bad52",
   "metadata": {},
   "outputs": [],
   "source": [
    "# file1 = open(file name, mode)\n",
    "# x = create a new blank text file\n",
    "# r = read mode\n",
    "# w = write mode\n",
    "# a = append mode\n",
    "# r+ = read and write\n",
    "# file1.close()"
   ]
  },
  {
   "cell_type": "code",
   "execution_count": 23,
   "id": "a4a09678",
   "metadata": {},
   "outputs": [],
   "source": [
    "# with open(file name, mode) as file1:\n",
    "    # statement"
   ]
  },
  {
   "cell_type": "code",
   "execution_count": 21,
   "id": "77142da7",
   "metadata": {},
   "outputs": [],
   "source": [
    "# creating a new file\n",
    "file1 = open('new_file.txt', 'x')\n",
    "file1.close()"
   ]
  },
  {
   "cell_type": "code",
   "execution_count": 7,
   "id": "ce969e90",
   "metadata": {},
   "outputs": [
    {
     "name": "stdout",
     "output_type": "stream",
     "text": [
      "['Hello world\\n', 'this is python language']\n"
     ]
    }
   ],
   "source": [
    "# reading a file\n",
    "with open('myfile.txt', 'r') as file1:\n",
    "#     print(file1.readline())\n",
    "    print(file1.readlines())\n",
    "#     read = file1.read()\n",
    "#     print(read)\n"
   ]
  },
  {
   "cell_type": "code",
   "execution_count": 12,
   "id": "167330c1",
   "metadata": {},
   "outputs": [],
   "source": [
    "# adding a text in the file\n",
    "# in write mode the entire previous data gets overwritten by the new data \n",
    "file1 = open('myfile.txt', 'w')\n",
    "write = file1.write(\"Java\")\n",
    "file1.close()"
   ]
  },
  {
   "cell_type": "code",
   "execution_count": 13,
   "id": "fb5621db",
   "metadata": {},
   "outputs": [],
   "source": [
    "# appending data to the file\n",
    "# in append mode the previous data remains and new data is added to it\n",
    "with open('myfile.txt', 'a') as file1:\n",
    "    file1.write(\"\\npython\")"
   ]
  },
  {
   "cell_type": "code",
   "execution_count": 16,
   "id": "cd78d470",
   "metadata": {},
   "outputs": [
    {
     "ename": "ValueError",
     "evalue": "substring not found",
     "output_type": "error",
     "traceback": [
      "\u001b[1;31m---------------------------------------------------------------------------\u001b[0m",
      "\u001b[1;31mValueError\u001b[0m                                Traceback (most recent call last)",
      "Cell \u001b[1;32mIn[16], line 4\u001b[0m\n\u001b[0;32m      2\u001b[0m \u001b[38;5;28;01mwith\u001b[39;00m \u001b[38;5;28mopen\u001b[39m(\u001b[38;5;124m'\u001b[39m\u001b[38;5;124mmyfile.txt\u001b[39m\u001b[38;5;124m'\u001b[39m, \u001b[38;5;124m'\u001b[39m\u001b[38;5;124mr+\u001b[39m\u001b[38;5;124m'\u001b[39m) \u001b[38;5;28;01mas\u001b[39;00m file1:\n\u001b[0;32m      3\u001b[0m     data \u001b[38;5;241m=\u001b[39m file1\u001b[38;5;241m.\u001b[39mread()\n\u001b[1;32m----> 4\u001b[0m     file1\u001b[38;5;241m.\u001b[39mseek(data\u001b[38;5;241m.\u001b[39mindex(\u001b[38;5;124m'\u001b[39m\u001b[38;5;124mjava\u001b[39m\u001b[38;5;124m'\u001b[39m))\n\u001b[0;32m      5\u001b[0m     file1\u001b[38;5;241m.\u001b[39mwrite(\u001b[38;5;124m'\u001b[39m\u001b[38;5;130;01m\\n\u001b[39;00m\u001b[38;5;124mc++\u001b[39m\u001b[38;5;124m'\u001b[39m)\n",
      "\u001b[1;31mValueError\u001b[0m: substring not found"
     ]
    }
   ],
   "source": [
    "# reading and writing\n",
    "with open('myfile.txt', 'r+') as file1:\n",
    "    data = file1.read()\n",
    "    file1.seek(data.index('java'))\n",
    "    file1.write('\\nc++')\n",
    "#     print(file1.read())"
   ]
  },
  {
   "cell_type": "code",
   "execution_count": null,
   "id": "96530f35",
   "metadata": {},
   "outputs": [],
   "source": []
  }
 ],
 "metadata": {
  "kernelspec": {
   "display_name": "Python 3 (ipykernel)",
   "language": "python",
   "name": "python3"
  },
  "language_info": {
   "codemirror_mode": {
    "name": "ipython",
    "version": 3
   },
   "file_extension": ".py",
   "mimetype": "text/x-python",
   "name": "python",
   "nbconvert_exporter": "python",
   "pygments_lexer": "ipython3",
   "version": "3.11.4"
  }
 },
 "nbformat": 4,
 "nbformat_minor": 5
}
